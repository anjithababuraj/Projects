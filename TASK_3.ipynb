{
  "nbformat": 4,
  "nbformat_minor": 0,
  "metadata": {
    "colab": {
      "provenance": [],
      "authorship_tag": "ABX9TyPEBxaVOXoP5zVqFov1LwsS",
      "include_colab_link": true
    },
    "kernelspec": {
      "name": "python3",
      "display_name": "Python 3"
    },
    "language_info": {
      "name": "python"
    }
  },
  "cells": [
    {
      "cell_type": "markdown",
      "metadata": {
        "id": "view-in-github",
        "colab_type": "text"
      },
      "source": [
        "<a href=\"https://colab.research.google.com/github/anjithababuraj/Projects/blob/main/TASK_3.ipynb\" target=\"_parent\"><img src=\"https://colab.research.google.com/assets/colab-badge.svg\" alt=\"Open In Colab\"/></a>"
      ]
    },
    {
      "cell_type": "markdown",
      "source": [
        "# **TASK 3 - SPAM EMAIL DETECTION**"
      ],
      "metadata": {
        "id": "JusF1okPmtxv"
      }
    },
    {
      "cell_type": "markdown",
      "source": [
        "model to classify emails as spam or ham based on their\n",
        "content"
      ],
      "metadata": {
        "id": "b1F6QzdmoGPs"
      }
    },
    {
      "cell_type": "markdown",
      "source": [
        "![Screenshot (118).png](data:image/png;base64,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)"
      ],
      "metadata": {
        "id": "mPSmr3iUmXRZ"
      }
    },
    {
      "cell_type": "code",
      "execution_count": null,
      "metadata": {
        "id": "1eKOWnedLvmp"
      },
      "outputs": [],
      "source": [
        "#import required libraries\n",
        "import numpy as np\n",
        "import pandas as pd\n",
        "import matplotlib.pyplot as plt\n",
        "import seaborn as sns\n",
        "import nltk\n",
        "import re"
      ]
    },
    {
      "cell_type": "code",
      "source": [
        "#data loading\n",
        "data=pd.read_csv('/content/spam.csv')\n",
        "data"
      ],
      "metadata": {
        "colab": {
          "base_uri": "https://localhost:8080/",
          "height": 423
        },
        "id": "V3iigOy5M2Hj",
        "outputId": "eab07fc6-2e44-46a0-e9a1-b2ea9ed310ac"
      },
      "execution_count": null,
      "outputs": [
        {
          "output_type": "execute_result",
          "data": {
            "text/plain": [
              "     Category                                            Message\n",
              "0         ham  Go until jurong point, crazy.. Available only ...\n",
              "1         ham                      Ok lar... Joking wif u oni...\n",
              "2        spam  Free entry in 2 a wkly comp to win FA Cup fina...\n",
              "3         ham  U dun say so early hor... U c already then say...\n",
              "4         ham  Nah I don't think he goes to usf, he lives aro...\n",
              "...       ...                                                ...\n",
              "5567     spam  This is the 2nd time we have tried 2 contact u...\n",
              "5568      ham               Will ü b going to esplanade fr home?\n",
              "5569      ham  Pity, * was in mood for that. So...any other s...\n",
              "5570      ham  The guy did some bitching but I acted like i'd...\n",
              "5571      ham                         Rofl. Its true to its name\n",
              "\n",
              "[5572 rows x 2 columns]"
            ],
            "text/html": [
              "\n",
              "  <div id=\"df-48b5e9a0-a779-4c82-a48c-07492ef4864e\" class=\"colab-df-container\">\n",
              "    <div>\n",
              "<style scoped>\n",
              "    .dataframe tbody tr th:only-of-type {\n",
              "        vertical-align: middle;\n",
              "    }\n",
              "\n",
              "    .dataframe tbody tr th {\n",
              "        vertical-align: top;\n",
              "    }\n",
              "\n",
              "    .dataframe thead th {\n",
              "        text-align: right;\n",
              "    }\n",
              "</style>\n",
              "<table border=\"1\" class=\"dataframe\">\n",
              "  <thead>\n",
              "    <tr style=\"text-align: right;\">\n",
              "      <th></th>\n",
              "      <th>Category</th>\n",
              "      <th>Message</th>\n",
              "    </tr>\n",
              "  </thead>\n",
              "  <tbody>\n",
              "    <tr>\n",
              "      <th>0</th>\n",
              "      <td>ham</td>\n",
              "      <td>Go until jurong point, crazy.. Available only ...</td>\n",
              "    </tr>\n",
              "    <tr>\n",
              "      <th>1</th>\n",
              "      <td>ham</td>\n",
              "      <td>Ok lar... Joking wif u oni...</td>\n",
              "    </tr>\n",
              "    <tr>\n",
              "      <th>2</th>\n",
              "      <td>spam</td>\n",
              "      <td>Free entry in 2 a wkly comp to win FA Cup fina...</td>\n",
              "    </tr>\n",
              "    <tr>\n",
              "      <th>3</th>\n",
              "      <td>ham</td>\n",
              "      <td>U dun say so early hor... U c already then say...</td>\n",
              "    </tr>\n",
              "    <tr>\n",
              "      <th>4</th>\n",
              "      <td>ham</td>\n",
              "      <td>Nah I don't think he goes to usf, he lives aro...</td>\n",
              "    </tr>\n",
              "    <tr>\n",
              "      <th>...</th>\n",
              "      <td>...</td>\n",
              "      <td>...</td>\n",
              "    </tr>\n",
              "    <tr>\n",
              "      <th>5567</th>\n",
              "      <td>spam</td>\n",
              "      <td>This is the 2nd time we have tried 2 contact u...</td>\n",
              "    </tr>\n",
              "    <tr>\n",
              "      <th>5568</th>\n",
              "      <td>ham</td>\n",
              "      <td>Will ü b going to esplanade fr home?</td>\n",
              "    </tr>\n",
              "    <tr>\n",
              "      <th>5569</th>\n",
              "      <td>ham</td>\n",
              "      <td>Pity, * was in mood for that. So...any other s...</td>\n",
              "    </tr>\n",
              "    <tr>\n",
              "      <th>5570</th>\n",
              "      <td>ham</td>\n",
              "      <td>The guy did some bitching but I acted like i'd...</td>\n",
              "    </tr>\n",
              "    <tr>\n",
              "      <th>5571</th>\n",
              "      <td>ham</td>\n",
              "      <td>Rofl. Its true to its name</td>\n",
              "    </tr>\n",
              "  </tbody>\n",
              "</table>\n",
              "<p>5572 rows × 2 columns</p>\n",
              "</div>\n",
              "    <div class=\"colab-df-buttons\">\n",
              "\n",
              "  <div class=\"colab-df-container\">\n",
              "    <button class=\"colab-df-convert\" onclick=\"convertToInteractive('df-48b5e9a0-a779-4c82-a48c-07492ef4864e')\"\n",
              "            title=\"Convert this dataframe to an interactive table.\"\n",
              "            style=\"display:none;\">\n",
              "\n",
              "  <svg xmlns=\"http://www.w3.org/2000/svg\" height=\"24px\" viewBox=\"0 -960 960 960\">\n",
              "    <path d=\"M120-120v-720h720v720H120Zm60-500h600v-160H180v160Zm220 220h160v-160H400v160Zm0 220h160v-160H400v160ZM180-400h160v-160H180v160Zm440 0h160v-160H620v160ZM180-180h160v-160H180v160Zm440 0h160v-160H620v160Z\"/>\n",
              "  </svg>\n",
              "    </button>\n",
              "\n",
              "  <style>\n",
              "    .colab-df-container {\n",
              "      display:flex;\n",
              "      gap: 12px;\n",
              "    }\n",
              "\n",
              "    .colab-df-convert {\n",
              "      background-color: #E8F0FE;\n",
              "      border: none;\n",
              "      border-radius: 50%;\n",
              "      cursor: pointer;\n",
              "      display: none;\n",
              "      fill: #1967D2;\n",
              "      height: 32px;\n",
              "      padding: 0 0 0 0;\n",
              "      width: 32px;\n",
              "    }\n",
              "\n",
              "    .colab-df-convert:hover {\n",
              "      background-color: #E2EBFA;\n",
              "      box-shadow: 0px 1px 2px rgba(60, 64, 67, 0.3), 0px 1px 3px 1px rgba(60, 64, 67, 0.15);\n",
              "      fill: #174EA6;\n",
              "    }\n",
              "\n",
              "    .colab-df-buttons div {\n",
              "      margin-bottom: 4px;\n",
              "    }\n",
              "\n",
              "    [theme=dark] .colab-df-convert {\n",
              "      background-color: #3B4455;\n",
              "      fill: #D2E3FC;\n",
              "    }\n",
              "\n",
              "    [theme=dark] .colab-df-convert:hover {\n",
              "      background-color: #434B5C;\n",
              "      box-shadow: 0px 1px 3px 1px rgba(0, 0, 0, 0.15);\n",
              "      filter: drop-shadow(0px 1px 2px rgba(0, 0, 0, 0.3));\n",
              "      fill: #FFFFFF;\n",
              "    }\n",
              "  </style>\n",
              "\n",
              "    <script>\n",
              "      const buttonEl =\n",
              "        document.querySelector('#df-48b5e9a0-a779-4c82-a48c-07492ef4864e button.colab-df-convert');\n",
              "      buttonEl.style.display =\n",
              "        google.colab.kernel.accessAllowed ? 'block' : 'none';\n",
              "\n",
              "      async function convertToInteractive(key) {\n",
              "        const element = document.querySelector('#df-48b5e9a0-a779-4c82-a48c-07492ef4864e');\n",
              "        const dataTable =\n",
              "          await google.colab.kernel.invokeFunction('convertToInteractive',\n",
              "                                                    [key], {});\n",
              "        if (!dataTable) return;\n",
              "\n",
              "        const docLinkHtml = 'Like what you see? Visit the ' +\n",
              "          '<a target=\"_blank\" href=https://colab.research.google.com/notebooks/data_table.ipynb>data table notebook</a>'\n",
              "          + ' to learn more about interactive tables.';\n",
              "        element.innerHTML = '';\n",
              "        dataTable['output_type'] = 'display_data';\n",
              "        await google.colab.output.renderOutput(dataTable, element);\n",
              "        const docLink = document.createElement('div');\n",
              "        docLink.innerHTML = docLinkHtml;\n",
              "        element.appendChild(docLink);\n",
              "      }\n",
              "    </script>\n",
              "  </div>\n",
              "\n",
              "\n",
              "<div id=\"df-348dc5a8-a7a4-4e8c-90b4-7b0fe3b49233\">\n",
              "  <button class=\"colab-df-quickchart\" onclick=\"quickchart('df-348dc5a8-a7a4-4e8c-90b4-7b0fe3b49233')\"\n",
              "            title=\"Suggest charts\"\n",
              "            style=\"display:none;\">\n",
              "\n",
              "<svg xmlns=\"http://www.w3.org/2000/svg\" height=\"24px\"viewBox=\"0 0 24 24\"\n",
              "     width=\"24px\">\n",
              "    <g>\n",
              "        <path d=\"M19 3H5c-1.1 0-2 .9-2 2v14c0 1.1.9 2 2 2h14c1.1 0 2-.9 2-2V5c0-1.1-.9-2-2-2zM9 17H7v-7h2v7zm4 0h-2V7h2v10zm4 0h-2v-4h2v4z\"/>\n",
              "    </g>\n",
              "</svg>\n",
              "  </button>\n",
              "\n",
              "<style>\n",
              "  .colab-df-quickchart {\n",
              "      --bg-color: #E8F0FE;\n",
              "      --fill-color: #1967D2;\n",
              "      --hover-bg-color: #E2EBFA;\n",
              "      --hover-fill-color: #174EA6;\n",
              "      --disabled-fill-color: #AAA;\n",
              "      --disabled-bg-color: #DDD;\n",
              "  }\n",
              "\n",
              "  [theme=dark] .colab-df-quickchart {\n",
              "      --bg-color: #3B4455;\n",
              "      --fill-color: #D2E3FC;\n",
              "      --hover-bg-color: #434B5C;\n",
              "      --hover-fill-color: #FFFFFF;\n",
              "      --disabled-bg-color: #3B4455;\n",
              "      --disabled-fill-color: #666;\n",
              "  }\n",
              "\n",
              "  .colab-df-quickchart {\n",
              "    background-color: var(--bg-color);\n",
              "    border: none;\n",
              "    border-radius: 50%;\n",
              "    cursor: pointer;\n",
              "    display: none;\n",
              "    fill: var(--fill-color);\n",
              "    height: 32px;\n",
              "    padding: 0;\n",
              "    width: 32px;\n",
              "  }\n",
              "\n",
              "  .colab-df-quickchart:hover {\n",
              "    background-color: var(--hover-bg-color);\n",
              "    box-shadow: 0 1px 2px rgba(60, 64, 67, 0.3), 0 1px 3px 1px rgba(60, 64, 67, 0.15);\n",
              "    fill: var(--button-hover-fill-color);\n",
              "  }\n",
              "\n",
              "  .colab-df-quickchart-complete:disabled,\n",
              "  .colab-df-quickchart-complete:disabled:hover {\n",
              "    background-color: var(--disabled-bg-color);\n",
              "    fill: var(--disabled-fill-color);\n",
              "    box-shadow: none;\n",
              "  }\n",
              "\n",
              "  .colab-df-spinner {\n",
              "    border: 2px solid var(--fill-color);\n",
              "    border-color: transparent;\n",
              "    border-bottom-color: var(--fill-color);\n",
              "    animation:\n",
              "      spin 1s steps(1) infinite;\n",
              "  }\n",
              "\n",
              "  @keyframes spin {\n",
              "    0% {\n",
              "      border-color: transparent;\n",
              "      border-bottom-color: var(--fill-color);\n",
              "      border-left-color: var(--fill-color);\n",
              "    }\n",
              "    20% {\n",
              "      border-color: transparent;\n",
              "      border-left-color: var(--fill-color);\n",
              "      border-top-color: var(--fill-color);\n",
              "    }\n",
              "    30% {\n",
              "      border-color: transparent;\n",
              "      border-left-color: var(--fill-color);\n",
              "      border-top-color: var(--fill-color);\n",
              "      border-right-color: var(--fill-color);\n",
              "    }\n",
              "    40% {\n",
              "      border-color: transparent;\n",
              "      border-right-color: var(--fill-color);\n",
              "      border-top-color: var(--fill-color);\n",
              "    }\n",
              "    60% {\n",
              "      border-color: transparent;\n",
              "      border-right-color: var(--fill-color);\n",
              "    }\n",
              "    80% {\n",
              "      border-color: transparent;\n",
              "      border-right-color: var(--fill-color);\n",
              "      border-bottom-color: var(--fill-color);\n",
              "    }\n",
              "    90% {\n",
              "      border-color: transparent;\n",
              "      border-bottom-color: var(--fill-color);\n",
              "    }\n",
              "  }\n",
              "</style>\n",
              "\n",
              "  <script>\n",
              "    async function quickchart(key) {\n",
              "      const quickchartButtonEl =\n",
              "        document.querySelector('#' + key + ' button');\n",
              "      quickchartButtonEl.disabled = true;  // To prevent multiple clicks.\n",
              "      quickchartButtonEl.classList.add('colab-df-spinner');\n",
              "      try {\n",
              "        const charts = await google.colab.kernel.invokeFunction(\n",
              "            'suggestCharts', [key], {});\n",
              "      } catch (error) {\n",
              "        console.error('Error during call to suggestCharts:', error);\n",
              "      }\n",
              "      quickchartButtonEl.classList.remove('colab-df-spinner');\n",
              "      quickchartButtonEl.classList.add('colab-df-quickchart-complete');\n",
              "    }\n",
              "    (() => {\n",
              "      let quickchartButtonEl =\n",
              "        document.querySelector('#df-348dc5a8-a7a4-4e8c-90b4-7b0fe3b49233 button');\n",
              "      quickchartButtonEl.style.display =\n",
              "        google.colab.kernel.accessAllowed ? 'block' : 'none';\n",
              "    })();\n",
              "  </script>\n",
              "</div>\n",
              "\n",
              "  <div id=\"id_021fee0c-4887-4e3e-adbb-93f067e1e8a4\">\n",
              "    <style>\n",
              "      .colab-df-generate {\n",
              "        background-color: #E8F0FE;\n",
              "        border: none;\n",
              "        border-radius: 50%;\n",
              "        cursor: pointer;\n",
              "        display: none;\n",
              "        fill: #1967D2;\n",
              "        height: 32px;\n",
              "        padding: 0 0 0 0;\n",
              "        width: 32px;\n",
              "      }\n",
              "\n",
              "      .colab-df-generate:hover {\n",
              "        background-color: #E2EBFA;\n",
              "        box-shadow: 0px 1px 2px rgba(60, 64, 67, 0.3), 0px 1px 3px 1px rgba(60, 64, 67, 0.15);\n",
              "        fill: #174EA6;\n",
              "      }\n",
              "\n",
              "      [theme=dark] .colab-df-generate {\n",
              "        background-color: #3B4455;\n",
              "        fill: #D2E3FC;\n",
              "      }\n",
              "\n",
              "      [theme=dark] .colab-df-generate:hover {\n",
              "        background-color: #434B5C;\n",
              "        box-shadow: 0px 1px 3px 1px rgba(0, 0, 0, 0.15);\n",
              "        filter: drop-shadow(0px 1px 2px rgba(0, 0, 0, 0.3));\n",
              "        fill: #FFFFFF;\n",
              "      }\n",
              "    </style>\n",
              "    <button class=\"colab-df-generate\" onclick=\"generateWithVariable('data')\"\n",
              "            title=\"Generate code using this dataframe.\"\n",
              "            style=\"display:none;\">\n",
              "\n",
              "  <svg xmlns=\"http://www.w3.org/2000/svg\" height=\"24px\"viewBox=\"0 0 24 24\"\n",
              "       width=\"24px\">\n",
              "    <path d=\"M7,19H8.4L18.45,9,17,7.55,7,17.6ZM5,21V16.75L18.45,3.32a2,2,0,0,1,2.83,0l1.4,1.43a1.91,1.91,0,0,1,.58,1.4,1.91,1.91,0,0,1-.58,1.4L9.25,21ZM18.45,9,17,7.55Zm-12,3A5.31,5.31,0,0,0,4.9,8.1,5.31,5.31,0,0,0,1,6.5,5.31,5.31,0,0,0,4.9,4.9,5.31,5.31,0,0,0,6.5,1,5.31,5.31,0,0,0,8.1,4.9,5.31,5.31,0,0,0,12,6.5,5.46,5.46,0,0,0,6.5,12Z\"/>\n",
              "  </svg>\n",
              "    </button>\n",
              "    <script>\n",
              "      (() => {\n",
              "      const buttonEl =\n",
              "        document.querySelector('#id_021fee0c-4887-4e3e-adbb-93f067e1e8a4 button.colab-df-generate');\n",
              "      buttonEl.style.display =\n",
              "        google.colab.kernel.accessAllowed ? 'block' : 'none';\n",
              "\n",
              "      buttonEl.onclick = () => {\n",
              "        google.colab.notebook.generateWithVariable('data');\n",
              "      }\n",
              "      })();\n",
              "    </script>\n",
              "  </div>\n",
              "\n",
              "    </div>\n",
              "  </div>\n"
            ],
            "application/vnd.google.colaboratory.intrinsic+json": {
              "type": "dataframe",
              "variable_name": "data",
              "summary": "{\n  \"name\": \"data\",\n  \"rows\": 5572,\n  \"fields\": [\n    {\n      \"column\": \"Category\",\n      \"properties\": {\n        \"dtype\": \"category\",\n        \"num_unique_values\": 2,\n        \"samples\": [\n          \"spam\",\n          \"ham\"\n        ],\n        \"semantic_type\": \"\",\n        \"description\": \"\"\n      }\n    },\n    {\n      \"column\": \"Message\",\n      \"properties\": {\n        \"dtype\": \"string\",\n        \"num_unique_values\": 5157,\n        \"samples\": [\n          \"Also sir, i sent you an email about how to log into the usc payment portal. I.ll send you another message that should explain how things are back home. Have a great weekend.\",\n          \"Are you free now?can i call now?\"\n        ],\n        \"semantic_type\": \"\",\n        \"description\": \"\"\n      }\n    }\n  ]\n}"
            }
          },
          "metadata": {},
          "execution_count": 2
        }
      ]
    },
    {
      "cell_type": "code",
      "source": [
        "data.shape"
      ],
      "metadata": {
        "colab": {
          "base_uri": "https://localhost:8080/"
        },
        "id": "iqcQJWp1NW6q",
        "outputId": "0aae57e2-55e6-4bbf-b822-ca6c72318544"
      },
      "execution_count": null,
      "outputs": [
        {
          "output_type": "execute_result",
          "data": {
            "text/plain": [
              "(5572, 2)"
            ]
          },
          "metadata": {},
          "execution_count": 3
        }
      ]
    },
    {
      "cell_type": "code",
      "source": [
        "data.head()"
      ],
      "metadata": {
        "colab": {
          "base_uri": "https://localhost:8080/",
          "height": 206
        },
        "id": "ULfz4dxUNZMC",
        "outputId": "224ca890-ee0c-4593-f57f-dc64cc281f2a"
      },
      "execution_count": null,
      "outputs": [
        {
          "output_type": "execute_result",
          "data": {
            "text/plain": [
              "  Category                                            Message\n",
              "0      ham  Go until jurong point, crazy.. Available only ...\n",
              "1      ham                      Ok lar... Joking wif u oni...\n",
              "2     spam  Free entry in 2 a wkly comp to win FA Cup fina...\n",
              "3      ham  U dun say so early hor... U c already then say...\n",
              "4      ham  Nah I don't think he goes to usf, he lives aro..."
            ],
            "text/html": [
              "\n",
              "  <div id=\"df-913de655-14b9-424f-846a-1d3140e00085\" class=\"colab-df-container\">\n",
              "    <div>\n",
              "<style scoped>\n",
              "    .dataframe tbody tr th:only-of-type {\n",
              "        vertical-align: middle;\n",
              "    }\n",
              "\n",
              "    .dataframe tbody tr th {\n",
              "        vertical-align: top;\n",
              "    }\n",
              "\n",
              "    .dataframe thead th {\n",
              "        text-align: right;\n",
              "    }\n",
              "</style>\n",
              "<table border=\"1\" class=\"dataframe\">\n",
              "  <thead>\n",
              "    <tr style=\"text-align: right;\">\n",
              "      <th></th>\n",
              "      <th>Category</th>\n",
              "      <th>Message</th>\n",
              "    </tr>\n",
              "  </thead>\n",
              "  <tbody>\n",
              "    <tr>\n",
              "      <th>0</th>\n",
              "      <td>ham</td>\n",
              "      <td>Go until jurong point, crazy.. Available only ...</td>\n",
              "    </tr>\n",
              "    <tr>\n",
              "      <th>1</th>\n",
              "      <td>ham</td>\n",
              "      <td>Ok lar... Joking wif u oni...</td>\n",
              "    </tr>\n",
              "    <tr>\n",
              "      <th>2</th>\n",
              "      <td>spam</td>\n",
              "      <td>Free entry in 2 a wkly comp to win FA Cup fina...</td>\n",
              "    </tr>\n",
              "    <tr>\n",
              "      <th>3</th>\n",
              "      <td>ham</td>\n",
              "      <td>U dun say so early hor... U c already then say...</td>\n",
              "    </tr>\n",
              "    <tr>\n",
              "      <th>4</th>\n",
              "      <td>ham</td>\n",
              "      <td>Nah I don't think he goes to usf, he lives aro...</td>\n",
              "    </tr>\n",
              "  </tbody>\n",
              "</table>\n",
              "</div>\n",
              "    <div class=\"colab-df-buttons\">\n",
              "\n",
              "  <div class=\"colab-df-container\">\n",
              "    <button class=\"colab-df-convert\" onclick=\"convertToInteractive('df-913de655-14b9-424f-846a-1d3140e00085')\"\n",
              "            title=\"Convert this dataframe to an interactive table.\"\n",
              "            style=\"display:none;\">\n",
              "\n",
              "  <svg xmlns=\"http://www.w3.org/2000/svg\" height=\"24px\" viewBox=\"0 -960 960 960\">\n",
              "    <path d=\"M120-120v-720h720v720H120Zm60-500h600v-160H180v160Zm220 220h160v-160H400v160Zm0 220h160v-160H400v160ZM180-400h160v-160H180v160Zm440 0h160v-160H620v160ZM180-180h160v-160H180v160Zm440 0h160v-160H620v160Z\"/>\n",
              "  </svg>\n",
              "    </button>\n",
              "\n",
              "  <style>\n",
              "    .colab-df-container {\n",
              "      display:flex;\n",
              "      gap: 12px;\n",
              "    }\n",
              "\n",
              "    .colab-df-convert {\n",
              "      background-color: #E8F0FE;\n",
              "      border: none;\n",
              "      border-radius: 50%;\n",
              "      cursor: pointer;\n",
              "      display: none;\n",
              "      fill: #1967D2;\n",
              "      height: 32px;\n",
              "      padding: 0 0 0 0;\n",
              "      width: 32px;\n",
              "    }\n",
              "\n",
              "    .colab-df-convert:hover {\n",
              "      background-color: #E2EBFA;\n",
              "      box-shadow: 0px 1px 2px rgba(60, 64, 67, 0.3), 0px 1px 3px 1px rgba(60, 64, 67, 0.15);\n",
              "      fill: #174EA6;\n",
              "    }\n",
              "\n",
              "    .colab-df-buttons div {\n",
              "      margin-bottom: 4px;\n",
              "    }\n",
              "\n",
              "    [theme=dark] .colab-df-convert {\n",
              "      background-color: #3B4455;\n",
              "      fill: #D2E3FC;\n",
              "    }\n",
              "\n",
              "    [theme=dark] .colab-df-convert:hover {\n",
              "      background-color: #434B5C;\n",
              "      box-shadow: 0px 1px 3px 1px rgba(0, 0, 0, 0.15);\n",
              "      filter: drop-shadow(0px 1px 2px rgba(0, 0, 0, 0.3));\n",
              "      fill: #FFFFFF;\n",
              "    }\n",
              "  </style>\n",
              "\n",
              "    <script>\n",
              "      const buttonEl =\n",
              "        document.querySelector('#df-913de655-14b9-424f-846a-1d3140e00085 button.colab-df-convert');\n",
              "      buttonEl.style.display =\n",
              "        google.colab.kernel.accessAllowed ? 'block' : 'none';\n",
              "\n",
              "      async function convertToInteractive(key) {\n",
              "        const element = document.querySelector('#df-913de655-14b9-424f-846a-1d3140e00085');\n",
              "        const dataTable =\n",
              "          await google.colab.kernel.invokeFunction('convertToInteractive',\n",
              "                                                    [key], {});\n",
              "        if (!dataTable) return;\n",
              "\n",
              "        const docLinkHtml = 'Like what you see? Visit the ' +\n",
              "          '<a target=\"_blank\" href=https://colab.research.google.com/notebooks/data_table.ipynb>data table notebook</a>'\n",
              "          + ' to learn more about interactive tables.';\n",
              "        element.innerHTML = '';\n",
              "        dataTable['output_type'] = 'display_data';\n",
              "        await google.colab.output.renderOutput(dataTable, element);\n",
              "        const docLink = document.createElement('div');\n",
              "        docLink.innerHTML = docLinkHtml;\n",
              "        element.appendChild(docLink);\n",
              "      }\n",
              "    </script>\n",
              "  </div>\n",
              "\n",
              "\n",
              "<div id=\"df-9e809cf6-ce92-4284-8708-44915afa5dee\">\n",
              "  <button class=\"colab-df-quickchart\" onclick=\"quickchart('df-9e809cf6-ce92-4284-8708-44915afa5dee')\"\n",
              "            title=\"Suggest charts\"\n",
              "            style=\"display:none;\">\n",
              "\n",
              "<svg xmlns=\"http://www.w3.org/2000/svg\" height=\"24px\"viewBox=\"0 0 24 24\"\n",
              "     width=\"24px\">\n",
              "    <g>\n",
              "        <path d=\"M19 3H5c-1.1 0-2 .9-2 2v14c0 1.1.9 2 2 2h14c1.1 0 2-.9 2-2V5c0-1.1-.9-2-2-2zM9 17H7v-7h2v7zm4 0h-2V7h2v10zm4 0h-2v-4h2v4z\"/>\n",
              "    </g>\n",
              "</svg>\n",
              "  </button>\n",
              "\n",
              "<style>\n",
              "  .colab-df-quickchart {\n",
              "      --bg-color: #E8F0FE;\n",
              "      --fill-color: #1967D2;\n",
              "      --hover-bg-color: #E2EBFA;\n",
              "      --hover-fill-color: #174EA6;\n",
              "      --disabled-fill-color: #AAA;\n",
              "      --disabled-bg-color: #DDD;\n",
              "  }\n",
              "\n",
              "  [theme=dark] .colab-df-quickchart {\n",
              "      --bg-color: #3B4455;\n",
              "      --fill-color: #D2E3FC;\n",
              "      --hover-bg-color: #434B5C;\n",
              "      --hover-fill-color: #FFFFFF;\n",
              "      --disabled-bg-color: #3B4455;\n",
              "      --disabled-fill-color: #666;\n",
              "  }\n",
              "\n",
              "  .colab-df-quickchart {\n",
              "    background-color: var(--bg-color);\n",
              "    border: none;\n",
              "    border-radius: 50%;\n",
              "    cursor: pointer;\n",
              "    display: none;\n",
              "    fill: var(--fill-color);\n",
              "    height: 32px;\n",
              "    padding: 0;\n",
              "    width: 32px;\n",
              "  }\n",
              "\n",
              "  .colab-df-quickchart:hover {\n",
              "    background-color: var(--hover-bg-color);\n",
              "    box-shadow: 0 1px 2px rgba(60, 64, 67, 0.3), 0 1px 3px 1px rgba(60, 64, 67, 0.15);\n",
              "    fill: var(--button-hover-fill-color);\n",
              "  }\n",
              "\n",
              "  .colab-df-quickchart-complete:disabled,\n",
              "  .colab-df-quickchart-complete:disabled:hover {\n",
              "    background-color: var(--disabled-bg-color);\n",
              "    fill: var(--disabled-fill-color);\n",
              "    box-shadow: none;\n",
              "  }\n",
              "\n",
              "  .colab-df-spinner {\n",
              "    border: 2px solid var(--fill-color);\n",
              "    border-color: transparent;\n",
              "    border-bottom-color: var(--fill-color);\n",
              "    animation:\n",
              "      spin 1s steps(1) infinite;\n",
              "  }\n",
              "\n",
              "  @keyframes spin {\n",
              "    0% {\n",
              "      border-color: transparent;\n",
              "      border-bottom-color: var(--fill-color);\n",
              "      border-left-color: var(--fill-color);\n",
              "    }\n",
              "    20% {\n",
              "      border-color: transparent;\n",
              "      border-left-color: var(--fill-color);\n",
              "      border-top-color: var(--fill-color);\n",
              "    }\n",
              "    30% {\n",
              "      border-color: transparent;\n",
              "      border-left-color: var(--fill-color);\n",
              "      border-top-color: var(--fill-color);\n",
              "      border-right-color: var(--fill-color);\n",
              "    }\n",
              "    40% {\n",
              "      border-color: transparent;\n",
              "      border-right-color: var(--fill-color);\n",
              "      border-top-color: var(--fill-color);\n",
              "    }\n",
              "    60% {\n",
              "      border-color: transparent;\n",
              "      border-right-color: var(--fill-color);\n",
              "    }\n",
              "    80% {\n",
              "      border-color: transparent;\n",
              "      border-right-color: var(--fill-color);\n",
              "      border-bottom-color: var(--fill-color);\n",
              "    }\n",
              "    90% {\n",
              "      border-color: transparent;\n",
              "      border-bottom-color: var(--fill-color);\n",
              "    }\n",
              "  }\n",
              "</style>\n",
              "\n",
              "  <script>\n",
              "    async function quickchart(key) {\n",
              "      const quickchartButtonEl =\n",
              "        document.querySelector('#' + key + ' button');\n",
              "      quickchartButtonEl.disabled = true;  // To prevent multiple clicks.\n",
              "      quickchartButtonEl.classList.add('colab-df-spinner');\n",
              "      try {\n",
              "        const charts = await google.colab.kernel.invokeFunction(\n",
              "            'suggestCharts', [key], {});\n",
              "      } catch (error) {\n",
              "        console.error('Error during call to suggestCharts:', error);\n",
              "      }\n",
              "      quickchartButtonEl.classList.remove('colab-df-spinner');\n",
              "      quickchartButtonEl.classList.add('colab-df-quickchart-complete');\n",
              "    }\n",
              "    (() => {\n",
              "      let quickchartButtonEl =\n",
              "        document.querySelector('#df-9e809cf6-ce92-4284-8708-44915afa5dee button');\n",
              "      quickchartButtonEl.style.display =\n",
              "        google.colab.kernel.accessAllowed ? 'block' : 'none';\n",
              "    })();\n",
              "  </script>\n",
              "</div>\n",
              "\n",
              "    </div>\n",
              "  </div>\n"
            ],
            "application/vnd.google.colaboratory.intrinsic+json": {
              "type": "dataframe",
              "variable_name": "data",
              "summary": "{\n  \"name\": \"data\",\n  \"rows\": 5572,\n  \"fields\": [\n    {\n      \"column\": \"Category\",\n      \"properties\": {\n        \"dtype\": \"category\",\n        \"num_unique_values\": 2,\n        \"samples\": [\n          \"spam\",\n          \"ham\"\n        ],\n        \"semantic_type\": \"\",\n        \"description\": \"\"\n      }\n    },\n    {\n      \"column\": \"Message\",\n      \"properties\": {\n        \"dtype\": \"string\",\n        \"num_unique_values\": 5157,\n        \"samples\": [\n          \"Also sir, i sent you an email about how to log into the usc payment portal. I.ll send you another message that should explain how things are back home. Have a great weekend.\",\n          \"Are you free now?can i call now?\"\n        ],\n        \"semantic_type\": \"\",\n        \"description\": \"\"\n      }\n    }\n  ]\n}"
            }
          },
          "metadata": {},
          "execution_count": 4
        }
      ]
    },
    {
      "cell_type": "code",
      "source": [
        "data.tail()"
      ],
      "metadata": {
        "colab": {
          "base_uri": "https://localhost:8080/",
          "height": 206
        },
        "id": "Gzw6f_rFNast",
        "outputId": "79d7e5c5-19ad-4169-bf7c-0aa432cceb1a"
      },
      "execution_count": null,
      "outputs": [
        {
          "output_type": "execute_result",
          "data": {
            "text/plain": [
              "     Category                                            Message\n",
              "5567     spam  This is the 2nd time we have tried 2 contact u...\n",
              "5568      ham               Will ü b going to esplanade fr home?\n",
              "5569      ham  Pity, * was in mood for that. So...any other s...\n",
              "5570      ham  The guy did some bitching but I acted like i'd...\n",
              "5571      ham                         Rofl. Its true to its name"
            ],
            "text/html": [
              "\n",
              "  <div id=\"df-b35cc834-9a46-4e94-b47f-03c091999a0d\" class=\"colab-df-container\">\n",
              "    <div>\n",
              "<style scoped>\n",
              "    .dataframe tbody tr th:only-of-type {\n",
              "        vertical-align: middle;\n",
              "    }\n",
              "\n",
              "    .dataframe tbody tr th {\n",
              "        vertical-align: top;\n",
              "    }\n",
              "\n",
              "    .dataframe thead th {\n",
              "        text-align: right;\n",
              "    }\n",
              "</style>\n",
              "<table border=\"1\" class=\"dataframe\">\n",
              "  <thead>\n",
              "    <tr style=\"text-align: right;\">\n",
              "      <th></th>\n",
              "      <th>Category</th>\n",
              "      <th>Message</th>\n",
              "    </tr>\n",
              "  </thead>\n",
              "  <tbody>\n",
              "    <tr>\n",
              "      <th>5567</th>\n",
              "      <td>spam</td>\n",
              "      <td>This is the 2nd time we have tried 2 contact u...</td>\n",
              "    </tr>\n",
              "    <tr>\n",
              "      <th>5568</th>\n",
              "      <td>ham</td>\n",
              "      <td>Will ü b going to esplanade fr home?</td>\n",
              "    </tr>\n",
              "    <tr>\n",
              "      <th>5569</th>\n",
              "      <td>ham</td>\n",
              "      <td>Pity, * was in mood for that. So...any other s...</td>\n",
              "    </tr>\n",
              "    <tr>\n",
              "      <th>5570</th>\n",
              "      <td>ham</td>\n",
              "      <td>The guy did some bitching but I acted like i'd...</td>\n",
              "    </tr>\n",
              "    <tr>\n",
              "      <th>5571</th>\n",
              "      <td>ham</td>\n",
              "      <td>Rofl. Its true to its name</td>\n",
              "    </tr>\n",
              "  </tbody>\n",
              "</table>\n",
              "</div>\n",
              "    <div class=\"colab-df-buttons\">\n",
              "\n",
              "  <div class=\"colab-df-container\">\n",
              "    <button class=\"colab-df-convert\" onclick=\"convertToInteractive('df-b35cc834-9a46-4e94-b47f-03c091999a0d')\"\n",
              "            title=\"Convert this dataframe to an interactive table.\"\n",
              "            style=\"display:none;\">\n",
              "\n",
              "  <svg xmlns=\"http://www.w3.org/2000/svg\" height=\"24px\" viewBox=\"0 -960 960 960\">\n",
              "    <path d=\"M120-120v-720h720v720H120Zm60-500h600v-160H180v160Zm220 220h160v-160H400v160Zm0 220h160v-160H400v160ZM180-400h160v-160H180v160Zm440 0h160v-160H620v160ZM180-180h160v-160H180v160Zm440 0h160v-160H620v160Z\"/>\n",
              "  </svg>\n",
              "    </button>\n",
              "\n",
              "  <style>\n",
              "    .colab-df-container {\n",
              "      display:flex;\n",
              "      gap: 12px;\n",
              "    }\n",
              "\n",
              "    .colab-df-convert {\n",
              "      background-color: #E8F0FE;\n",
              "      border: none;\n",
              "      border-radius: 50%;\n",
              "      cursor: pointer;\n",
              "      display: none;\n",
              "      fill: #1967D2;\n",
              "      height: 32px;\n",
              "      padding: 0 0 0 0;\n",
              "      width: 32px;\n",
              "    }\n",
              "\n",
              "    .colab-df-convert:hover {\n",
              "      background-color: #E2EBFA;\n",
              "      box-shadow: 0px 1px 2px rgba(60, 64, 67, 0.3), 0px 1px 3px 1px rgba(60, 64, 67, 0.15);\n",
              "      fill: #174EA6;\n",
              "    }\n",
              "\n",
              "    .colab-df-buttons div {\n",
              "      margin-bottom: 4px;\n",
              "    }\n",
              "\n",
              "    [theme=dark] .colab-df-convert {\n",
              "      background-color: #3B4455;\n",
              "      fill: #D2E3FC;\n",
              "    }\n",
              "\n",
              "    [theme=dark] .colab-df-convert:hover {\n",
              "      background-color: #434B5C;\n",
              "      box-shadow: 0px 1px 3px 1px rgba(0, 0, 0, 0.15);\n",
              "      filter: drop-shadow(0px 1px 2px rgba(0, 0, 0, 0.3));\n",
              "      fill: #FFFFFF;\n",
              "    }\n",
              "  </style>\n",
              "\n",
              "    <script>\n",
              "      const buttonEl =\n",
              "        document.querySelector('#df-b35cc834-9a46-4e94-b47f-03c091999a0d button.colab-df-convert');\n",
              "      buttonEl.style.display =\n",
              "        google.colab.kernel.accessAllowed ? 'block' : 'none';\n",
              "\n",
              "      async function convertToInteractive(key) {\n",
              "        const element = document.querySelector('#df-b35cc834-9a46-4e94-b47f-03c091999a0d');\n",
              "        const dataTable =\n",
              "          await google.colab.kernel.invokeFunction('convertToInteractive',\n",
              "                                                    [key], {});\n",
              "        if (!dataTable) return;\n",
              "\n",
              "        const docLinkHtml = 'Like what you see? Visit the ' +\n",
              "          '<a target=\"_blank\" href=https://colab.research.google.com/notebooks/data_table.ipynb>data table notebook</a>'\n",
              "          + ' to learn more about interactive tables.';\n",
              "        element.innerHTML = '';\n",
              "        dataTable['output_type'] = 'display_data';\n",
              "        await google.colab.output.renderOutput(dataTable, element);\n",
              "        const docLink = document.createElement('div');\n",
              "        docLink.innerHTML = docLinkHtml;\n",
              "        element.appendChild(docLink);\n",
              "      }\n",
              "    </script>\n",
              "  </div>\n",
              "\n",
              "\n",
              "<div id=\"df-f9708204-a324-4838-9dd6-174f1efcf980\">\n",
              "  <button class=\"colab-df-quickchart\" onclick=\"quickchart('df-f9708204-a324-4838-9dd6-174f1efcf980')\"\n",
              "            title=\"Suggest charts\"\n",
              "            style=\"display:none;\">\n",
              "\n",
              "<svg xmlns=\"http://www.w3.org/2000/svg\" height=\"24px\"viewBox=\"0 0 24 24\"\n",
              "     width=\"24px\">\n",
              "    <g>\n",
              "        <path d=\"M19 3H5c-1.1 0-2 .9-2 2v14c0 1.1.9 2 2 2h14c1.1 0 2-.9 2-2V5c0-1.1-.9-2-2-2zM9 17H7v-7h2v7zm4 0h-2V7h2v10zm4 0h-2v-4h2v4z\"/>\n",
              "    </g>\n",
              "</svg>\n",
              "  </button>\n",
              "\n",
              "<style>\n",
              "  .colab-df-quickchart {\n",
              "      --bg-color: #E8F0FE;\n",
              "      --fill-color: #1967D2;\n",
              "      --hover-bg-color: #E2EBFA;\n",
              "      --hover-fill-color: #174EA6;\n",
              "      --disabled-fill-color: #AAA;\n",
              "      --disabled-bg-color: #DDD;\n",
              "  }\n",
              "\n",
              "  [theme=dark] .colab-df-quickchart {\n",
              "      --bg-color: #3B4455;\n",
              "      --fill-color: #D2E3FC;\n",
              "      --hover-bg-color: #434B5C;\n",
              "      --hover-fill-color: #FFFFFF;\n",
              "      --disabled-bg-color: #3B4455;\n",
              "      --disabled-fill-color: #666;\n",
              "  }\n",
              "\n",
              "  .colab-df-quickchart {\n",
              "    background-color: var(--bg-color);\n",
              "    border: none;\n",
              "    border-radius: 50%;\n",
              "    cursor: pointer;\n",
              "    display: none;\n",
              "    fill: var(--fill-color);\n",
              "    height: 32px;\n",
              "    padding: 0;\n",
              "    width: 32px;\n",
              "  }\n",
              "\n",
              "  .colab-df-quickchart:hover {\n",
              "    background-color: var(--hover-bg-color);\n",
              "    box-shadow: 0 1px 2px rgba(60, 64, 67, 0.3), 0 1px 3px 1px rgba(60, 64, 67, 0.15);\n",
              "    fill: var(--button-hover-fill-color);\n",
              "  }\n",
              "\n",
              "  .colab-df-quickchart-complete:disabled,\n",
              "  .colab-df-quickchart-complete:disabled:hover {\n",
              "    background-color: var(--disabled-bg-color);\n",
              "    fill: var(--disabled-fill-color);\n",
              "    box-shadow: none;\n",
              "  }\n",
              "\n",
              "  .colab-df-spinner {\n",
              "    border: 2px solid var(--fill-color);\n",
              "    border-color: transparent;\n",
              "    border-bottom-color: var(--fill-color);\n",
              "    animation:\n",
              "      spin 1s steps(1) infinite;\n",
              "  }\n",
              "\n",
              "  @keyframes spin {\n",
              "    0% {\n",
              "      border-color: transparent;\n",
              "      border-bottom-color: var(--fill-color);\n",
              "      border-left-color: var(--fill-color);\n",
              "    }\n",
              "    20% {\n",
              "      border-color: transparent;\n",
              "      border-left-color: var(--fill-color);\n",
              "      border-top-color: var(--fill-color);\n",
              "    }\n",
              "    30% {\n",
              "      border-color: transparent;\n",
              "      border-left-color: var(--fill-color);\n",
              "      border-top-color: var(--fill-color);\n",
              "      border-right-color: var(--fill-color);\n",
              "    }\n",
              "    40% {\n",
              "      border-color: transparent;\n",
              "      border-right-color: var(--fill-color);\n",
              "      border-top-color: var(--fill-color);\n",
              "    }\n",
              "    60% {\n",
              "      border-color: transparent;\n",
              "      border-right-color: var(--fill-color);\n",
              "    }\n",
              "    80% {\n",
              "      border-color: transparent;\n",
              "      border-right-color: var(--fill-color);\n",
              "      border-bottom-color: var(--fill-color);\n",
              "    }\n",
              "    90% {\n",
              "      border-color: transparent;\n",
              "      border-bottom-color: var(--fill-color);\n",
              "    }\n",
              "  }\n",
              "</style>\n",
              "\n",
              "  <script>\n",
              "    async function quickchart(key) {\n",
              "      const quickchartButtonEl =\n",
              "        document.querySelector('#' + key + ' button');\n",
              "      quickchartButtonEl.disabled = true;  // To prevent multiple clicks.\n",
              "      quickchartButtonEl.classList.add('colab-df-spinner');\n",
              "      try {\n",
              "        const charts = await google.colab.kernel.invokeFunction(\n",
              "            'suggestCharts', [key], {});\n",
              "      } catch (error) {\n",
              "        console.error('Error during call to suggestCharts:', error);\n",
              "      }\n",
              "      quickchartButtonEl.classList.remove('colab-df-spinner');\n",
              "      quickchartButtonEl.classList.add('colab-df-quickchart-complete');\n",
              "    }\n",
              "    (() => {\n",
              "      let quickchartButtonEl =\n",
              "        document.querySelector('#df-f9708204-a324-4838-9dd6-174f1efcf980 button');\n",
              "      quickchartButtonEl.style.display =\n",
              "        google.colab.kernel.accessAllowed ? 'block' : 'none';\n",
              "    })();\n",
              "  </script>\n",
              "</div>\n",
              "\n",
              "    </div>\n",
              "  </div>\n"
            ],
            "application/vnd.google.colaboratory.intrinsic+json": {
              "type": "dataframe",
              "summary": "{\n  \"name\": \"data\",\n  \"rows\": 5,\n  \"fields\": [\n    {\n      \"column\": \"Category\",\n      \"properties\": {\n        \"dtype\": \"category\",\n        \"num_unique_values\": 2,\n        \"samples\": [\n          \"ham\",\n          \"spam\"\n        ],\n        \"semantic_type\": \"\",\n        \"description\": \"\"\n      }\n    },\n    {\n      \"column\": \"Message\",\n      \"properties\": {\n        \"dtype\": \"string\",\n        \"num_unique_values\": 5,\n        \"samples\": [\n          \"Will \\u00fc b going to esplanade fr home?\",\n          \"Rofl. Its true to its name\"\n        ],\n        \"semantic_type\": \"\",\n        \"description\": \"\"\n      }\n    }\n  ]\n}"
            }
          },
          "metadata": {},
          "execution_count": 5
        }
      ]
    },
    {
      "cell_type": "code",
      "source": [
        "data.dtypes"
      ],
      "metadata": {
        "colab": {
          "base_uri": "https://localhost:8080/"
        },
        "id": "TBKaS9qWNddv",
        "outputId": "797c71df-bcbc-475c-a941-26b4aa34df96"
      },
      "execution_count": null,
      "outputs": [
        {
          "output_type": "execute_result",
          "data": {
            "text/plain": [
              "Category    object\n",
              "Message     object\n",
              "dtype: object"
            ]
          },
          "metadata": {},
          "execution_count": 6
        }
      ]
    },
    {
      "cell_type": "code",
      "source": [
        "data.info()"
      ],
      "metadata": {
        "colab": {
          "base_uri": "https://localhost:8080/"
        },
        "id": "ItFpaTUONkOY",
        "outputId": "995912ae-b692-47b1-d116-875f0aa34b32"
      },
      "execution_count": null,
      "outputs": [
        {
          "output_type": "stream",
          "name": "stdout",
          "text": [
            "<class 'pandas.core.frame.DataFrame'>\n",
            "RangeIndex: 5572 entries, 0 to 5571\n",
            "Data columns (total 2 columns):\n",
            " #   Column    Non-Null Count  Dtype \n",
            "---  ------    --------------  ----- \n",
            " 0   Category  5572 non-null   object\n",
            " 1   Message   5572 non-null   object\n",
            "dtypes: object(2)\n",
            "memory usage: 87.2+ KB\n"
          ]
        }
      ]
    },
    {
      "cell_type": "code",
      "source": [
        "data['Category'].unique()"
      ],
      "metadata": {
        "colab": {
          "base_uri": "https://localhost:8080/"
        },
        "id": "aX_AIhgqNt7Z",
        "outputId": "b009981c-6a9c-4811-8a59-be88c5352f8b"
      },
      "execution_count": null,
      "outputs": [
        {
          "output_type": "execute_result",
          "data": {
            "text/plain": [
              "array(['ham', 'spam'], dtype=object)"
            ]
          },
          "metadata": {},
          "execution_count": 8
        }
      ]
    },
    {
      "cell_type": "code",
      "source": [
        "sns.countplot(data['Category'],color='y')"
      ],
      "metadata": {
        "colab": {
          "base_uri": "https://localhost:8080/",
          "height": 466
        },
        "id": "5nYPKC_BN7Qm",
        "outputId": "c3bbf9d1-83ef-470c-e321-b3a2fe8bed99"
      },
      "execution_count": null,
      "outputs": [
        {
          "output_type": "execute_result",
          "data": {
            "text/plain": [
              "<Axes: xlabel='count', ylabel='Category'>"
            ]
          },
          "metadata": {},
          "execution_count": 9
        },
        {
          "output_type": "display_data",
          "data": {
            "text/plain": [
              "<Figure size 640x480 with 1 Axes>"
            ],
            "image/png": "[encoded data removed]"
          },
          "metadata": {}
        }
      ]
    },
    {
      "cell_type": "code",
      "source": [
        "data['Category']=data['Category'].map({'ham':0,'spam':1})\n",
        "data.head()"
      ],
      "metadata": {
        "colab": {
          "base_uri": "https://localhost:8080/",
          "height": 206
        },
        "id": "4F1r2322QmEI",
        "outputId": "c72f8816-9f0b-443a-9456-f59bdb6c7821"
      },
      "execution_count": null,
      "outputs": [
        {
          "output_type": "execute_result",
          "data": {
            "text/plain": [
              "   Category                                            Message\n",
              "0         0  Go until jurong point, crazy.. Available only ...\n",
              "1         0                      Ok lar... Joking wif u oni...\n",
              "2         1  Free entry in 2 a wkly comp to win FA Cup fina...\n",
              "3         0  U dun say so early hor... U c already then say...\n",
              "4         0  Nah I don't think he goes to usf, he lives aro..."
            ],
            "text/html": [
              "\n",
              "  <div id=\"df-fa2e2d31-1f23-4b79-aba8-cd580a8ad479\" class=\"colab-df-container\">\n",
              "    <div>\n",
              "<style scoped>\n",
              "    .dataframe tbody tr th:only-of-type {\n",
              "        vertical-align: middle;\n",
              "    }\n",
              "\n",
              "    .dataframe tbody tr th {\n",
              "        vertical-align: top;\n",
              "    }\n",
              "\n",
              "    .dataframe thead th {\n",
              "        text-align: right;\n",
              "    }\n",
              "</style>\n",
              "<table border=\"1\" class=\"dataframe\">\n",
              "  <thead>\n",
              "    <tr style=\"text-align: right;\">\n",
              "      <th></th>\n",
              "      <th>Category</th>\n",
              "      <th>Message</th>\n",
              "    </tr>\n",
              "  </thead>\n",
              "  <tbody>\n",
              "    <tr>\n",
              "      <th>0</th>\n",
              "      <td>0</td>\n",
              "      <td>Go until jurong point, crazy.. Available only ...</td>\n",
              "    </tr>\n",
              "    <tr>\n",
              "      <th>1</th>\n",
              "      <td>0</td>\n",
              "      <td>Ok lar... Joking wif u oni...</td>\n",
              "    </tr>\n",
              "    <tr>\n",
              "      <th>2</th>\n",
              "      <td>1</td>\n",
              "      <td>Free entry in 2 a wkly comp to win FA Cup fina...</td>\n",
              "    </tr>\n",
              "    <tr>\n",
              "      <th>3</th>\n",
              "      <td>0</td>\n",
              "      <td>U dun say so early hor... U c already then say...</td>\n",
              "    </tr>\n",
              "    <tr>\n",
              "      <th>4</th>\n",
              "      <td>0</td>\n",
              "      <td>Nah I don't think he goes to usf, he lives aro...</td>\n",
              "    </tr>\n",
              "  </tbody>\n",
              "</table>\n",
              "</div>\n",
              "    <div class=\"colab-df-buttons\">\n",
              "\n",
              "  <div class=\"colab-df-container\">\n",
              "    <button class=\"colab-df-convert\" onclick=\"convertToInteractive('df-fa2e2d31-1f23-4b79-aba8-cd580a8ad479')\"\n",
              "            title=\"Convert this dataframe to an interactive table.\"\n",
              "            style=\"display:none;\">\n",
              "\n",
              "  <svg xmlns=\"http://www.w3.org/2000/svg\" height=\"24px\" viewBox=\"0 -960 960 960\">\n",
              "    <path d=\"M120-120v-720h720v720H120Zm60-500h600v-160H180v160Zm220 220h160v-160H400v160Zm0 220h160v-160H400v160ZM180-400h160v-160H180v160Zm440 0h160v-160H620v160ZM180-180h160v-160H180v160Zm440 0h160v-160H620v160Z\"/>\n",
              "  </svg>\n",
              "    </button>\n",
              "\n",
              "  <style>\n",
              "    .colab-df-container {\n",
              "      display:flex;\n",
              "      gap: 12px;\n",
              "    }\n",
              "\n",
              "    .colab-df-convert {\n",
              "      background-color: #E8F0FE;\n",
              "      border: none;\n",
              "      border-radius: 50%;\n",
              "      cursor: pointer;\n",
              "      display: none;\n",
              "      fill: #1967D2;\n",
              "      height: 32px;\n",
              "      padding: 0 0 0 0;\n",
              "      width: 32px;\n",
              "    }\n",
              "\n",
              "    .colab-df-convert:hover {\n",
              "      background-color: #E2EBFA;\n",
              "      box-shadow: 0px 1px 2px rgba(60, 64, 67, 0.3), 0px 1px 3px 1px rgba(60, 64, 67, 0.15);\n",
              "      fill: #174EA6;\n",
              "    }\n",
              "\n",
              "    .colab-df-buttons div {\n",
              "      margin-bottom: 4px;\n",
              "    }\n",
              "\n",
              "    [theme=dark] .colab-df-convert {\n",
              "      background-color: #3B4455;\n",
              "      fill: #D2E3FC;\n",
              "    }\n",
              "\n",
              "    [theme=dark] .colab-df-convert:hover {\n",
              "      background-color: #434B5C;\n",
              "      box-shadow: 0px 1px 3px 1px rgba(0, 0, 0, 0.15);\n",
              "      filter: drop-shadow(0px 1px 2px rgba(0, 0, 0, 0.3));\n",
              "      fill: #FFFFFF;\n",
              "    }\n",
              "  </style>\n",
              "\n",
              "    <script>\n",
              "      const buttonEl =\n",
              "        document.querySelector('#df-fa2e2d31-1f23-4b79-aba8-cd580a8ad479 button.colab-df-convert');\n",
              "      buttonEl.style.display =\n",
              "        google.colab.kernel.accessAllowed ? 'block' : 'none';\n",
              "\n",
              "      async function convertToInteractive(key) {\n",
              "        const element = document.querySelector('#df-fa2e2d31-1f23-4b79-aba8-cd580a8ad479');\n",
              "        const dataTable =\n",
              "          await google.colab.kernel.invokeFunction('convertToInteractive',\n",
              "                                                    [key], {});\n",
              "        if (!dataTable) return;\n",
              "\n",
              "        const docLinkHtml = 'Like what you see? Visit the ' +\n",
              "          '<a target=\"_blank\" href=https://colab.research.google.com/notebooks/data_table.ipynb>data table notebook</a>'\n",
              "          + ' to learn more about interactive tables.';\n",
              "        element.innerHTML = '';\n",
              "        dataTable['output_type'] = 'display_data';\n",
              "        await google.colab.output.renderOutput(dataTable, element);\n",
              "        const docLink = document.createElement('div');\n",
              "        docLink.innerHTML = docLinkHtml;\n",
              "        element.appendChild(docLink);\n",
              "      }\n",
              "    </script>\n",
              "  </div>\n",
              "\n",
              "\n",
              "<div id=\"df-eb74db5b-f74a-420b-9b58-45d95e246239\">\n",
              "  <button class=\"colab-df-quickchart\" onclick=\"quickchart('df-eb74db5b-f74a-420b-9b58-45d95e246239')\"\n",
              "            title=\"Suggest charts\"\n",
              "            style=\"display:none;\">\n",
              "\n",
              "<svg xmlns=\"http://www.w3.org/2000/svg\" height=\"24px\"viewBox=\"0 0 24 24\"\n",
              "     width=\"24px\">\n",
              "    <g>\n",
              "        <path d=\"M19 3H5c-1.1 0-2 .9-2 2v14c0 1.1.9 2 2 2h14c1.1 0 2-.9 2-2V5c0-1.1-.9-2-2-2zM9 17H7v-7h2v7zm4 0h-2V7h2v10zm4 0h-2v-4h2v4z\"/>\n",
              "    </g>\n",
              "</svg>\n",
              "  </button>\n",
              "\n",
              "<style>\n",
              "  .colab-df-quickchart {\n",
              "      --bg-color: #E8F0FE;\n",
              "      --fill-color: #1967D2;\n",
              "      --hover-bg-color: #E2EBFA;\n",
              "      --hover-fill-color: #174EA6;\n",
              "      --disabled-fill-color: #AAA;\n",
              "      --disabled-bg-color: #DDD;\n",
              "  }\n",
              "\n",
              "  [theme=dark] .colab-df-quickchart {\n",
              "      --bg-color: #3B4455;\n",
              "      --fill-color: #D2E3FC;\n",
              "      --hover-bg-color: #434B5C;\n",
              "      --hover-fill-color: #FFFFFF;\n",
              "      --disabled-bg-color: #3B4455;\n",
              "      --disabled-fill-color: #666;\n",
              "  }\n",
              "\n",
              "  .colab-df-quickchart {\n",
              "    background-color: var(--bg-color);\n",
              "    border: none;\n",
              "    border-radius: 50%;\n",
              "    cursor: pointer;\n",
              "    display: none;\n",
              "    fill: var(--fill-color);\n",
              "    height: 32px;\n",
              "    padding: 0;\n",
              "    width: 32px;\n",
              "  }\n",
              "\n",
              "  .colab-df-quickchart:hover {\n",
              "    background-color: var(--hover-bg-color);\n",
              "    box-shadow: 0 1px 2px rgba(60, 64, 67, 0.3), 0 1px 3px 1px rgba(60, 64, 67, 0.15);\n",
              "    fill: var(--button-hover-fill-color);\n",
              "  }\n",
              "\n",
              "  .colab-df-quickchart-complete:disabled,\n",
              "  .colab-df-quickchart-complete:disabled:hover {\n",
              "    background-color: var(--disabled-bg-color);\n",
              "    fill: var(--disabled-fill-color);\n",
              "    box-shadow: none;\n",
              "  }\n",
              "\n",
              "  .colab-df-spinner {\n",
              "    border: 2px solid var(--fill-color);\n",
              "    border-color: transparent;\n",
              "    border-bottom-color: var(--fill-color);\n",
              "    animation:\n",
              "      spin 1s steps(1) infinite;\n",
              "  }\n",
              "\n",
              "  @keyframes spin {\n",
              "    0% {\n",
              "      border-color: transparent;\n",
              "      border-bottom-color: var(--fill-color);\n",
              "      border-left-color: var(--fill-color);\n",
              "    }\n",
              "    20% {\n",
              "      border-color: transparent;\n",
              "      border-left-color: var(--fill-color);\n",
              "      border-top-color: var(--fill-color);\n",
              "    }\n",
              "    30% {\n",
              "      border-color: transparent;\n",
              "      border-left-color: var(--fill-color);\n",
              "      border-top-color: var(--fill-color);\n",
              "      border-right-color: var(--fill-color);\n",
              "    }\n",
              "    40% {\n",
              "      border-color: transparent;\n",
              "      border-right-color: var(--fill-color);\n",
              "      border-top-color: var(--fill-color);\n",
              "    }\n",
              "    60% {\n",
              "      border-color: transparent;\n",
              "      border-right-color: var(--fill-color);\n",
              "    }\n",
              "    80% {\n",
              "      border-color: transparent;\n",
              "      border-right-color: var(--fill-color);\n",
              "      border-bottom-color: var(--fill-color);\n",
              "    }\n",
              "    90% {\n",
              "      border-color: transparent;\n",
              "      border-bottom-color: var(--fill-color);\n",
              "    }\n",
              "  }\n",
              "</style>\n",
              "\n",
              "  <script>\n",
              "    async function quickchart(key) {\n",
              "      const quickchartButtonEl =\n",
              "        document.querySelector('#' + key + ' button');\n",
              "      quickchartButtonEl.disabled = true;  // To prevent multiple clicks.\n",
              "      quickchartButtonEl.classList.add('colab-df-spinner');\n",
              "      try {\n",
              "        const charts = await google.colab.kernel.invokeFunction(\n",
              "            'suggestCharts', [key], {});\n",
              "      } catch (error) {\n",
              "        console.error('Error during call to suggestCharts:', error);\n",
              "      }\n",
              "      quickchartButtonEl.classList.remove('colab-df-spinner');\n",
              "      quickchartButtonEl.classList.add('colab-df-quickchart-complete');\n",
              "    }\n",
              "    (() => {\n",
              "      let quickchartButtonEl =\n",
              "        document.querySelector('#df-eb74db5b-f74a-420b-9b58-45d95e246239 button');\n",
              "      quickchartButtonEl.style.display =\n",
              "        google.colab.kernel.accessAllowed ? 'block' : 'none';\n",
              "    })();\n",
              "  </script>\n",
              "</div>\n",
              "\n",
              "    </div>\n",
              "  </div>\n"
            ],
            "application/vnd.google.colaboratory.intrinsic+json": {
              "type": "dataframe",
              "variable_name": "data",
              "summary": "{\n  \"name\": \"data\",\n  \"rows\": 5572,\n  \"fields\": [\n    {\n      \"column\": \"Category\",\n      \"properties\": {\n        \"dtype\": \"number\",\n        \"std\": 0,\n        \"min\": 0,\n        \"max\": 1,\n        \"num_unique_values\": 2,\n        \"samples\": [\n          1,\n          0\n        ],\n        \"semantic_type\": \"\",\n        \"description\": \"\"\n      }\n    },\n    {\n      \"column\": \"Message\",\n      \"properties\": {\n        \"dtype\": \"string\",\n        \"num_unique_values\": 5157,\n        \"samples\": [\n          \"Also sir, i sent you an email about how to log into the usc payment portal. I.ll send you another message that should explain how things are back home. Have a great weekend.\",\n          \"Are you free now?can i call now?\"\n        ],\n        \"semantic_type\": \"\",\n        \"description\": \"\"\n      }\n    }\n  ]\n}"
            }
          },
          "metadata": {},
          "execution_count": 10
        }
      ]
    },
    {
      "cell_type": "code",
      "source": [
        "ham=data[data['Category']==0]\n",
        "spam=data[data['Category']==1]\n",
        "print(ham.shape)\n",
        "print(spam.shape)"
      ],
      "metadata": {
        "colab": {
          "base_uri": "https://localhost:8080/"
        },
        "id": "gpJi80gfQ72K",
        "outputId": "aa61f8f2-d4d4-4b49-c193-e64457f2c8cd"
      },
      "execution_count": null,
      "outputs": [
        {
          "output_type": "stream",
          "name": "stdout",
          "text": [
            "(4825, 2)\n",
            "(747, 2)\n"
          ]
        }
      ]
    },
    {
      "cell_type": "code",
      "source": [
        "spam1= spam.sample(4825, replace=True)\n",
        "new_data= pd.concat([spam1, ham], axis=0)\n",
        "print(new_data['Category'].value_counts())"
      ],
      "metadata": {
        "colab": {
          "base_uri": "https://localhost:8080/"
        },
        "id": "gA_Hv3rTRO9x",
        "outputId": "6ace5ff9-090f-4bbd-f275-6bb1a5990c79"
      },
      "execution_count": null,
      "outputs": [
        {
          "output_type": "stream",
          "name": "stdout",
          "text": [
            "Category\n",
            "1    4825\n",
            "0    4825\n",
            "Name: count, dtype: int64\n"
          ]
        }
      ]
    },
    {
      "cell_type": "code",
      "source": [
        "new_data.reset_index(drop=True,inplace=True)"
      ],
      "metadata": {
        "id": "rayjH2zGTTI1"
      },
      "execution_count": null,
      "outputs": []
    },
    {
      "cell_type": "code",
      "source": [
        "new_data['Category'].value_counts().plot(kind='pie')"
      ],
      "metadata": {
        "colab": {
          "base_uri": "https://localhost:8080/",
          "height": 423
        },
        "id": "MpGddF91TzXv",
        "outputId": "0a17b25f-761c-4e5d-94a3-e9d65209ac06"
      },
      "execution_count": null,
      "outputs": [
        {
          "output_type": "execute_result",
          "data": {
            "text/plain": [
              "<Axes: ylabel='count'>"
            ]
          },
          "metadata": {},
          "execution_count": 14
        },
        {
          "output_type": "display_data",
          "data": {
            "text/plain": [
              "<Figure size 640x480 with 1 Axes>"
            ],
            "image/png": "[encoded data removed]"
          },
          "metadata": {}
        }
      ]
    },
    {
      "cell_type": "code",
      "source": [
        "tweets=new_data['Message']\n",
        "tweets"
      ],
      "metadata": {
        "colab": {
          "base_uri": "https://localhost:8080/"
        },
        "id": "nLlIY75GT_Wz",
        "outputId": "6101ce20-8dcd-4b64-c507-6e8ea4748fe1"
      },
      "execution_count": null,
      "outputs": [
        {
          "output_type": "execute_result",
          "data": {
            "text/plain": [
              "0       FREE for 1st week! No1 Nokia tone 4 ur mob eve...\n",
              "1       URGENT! Your Mobile number has been awarded wi...\n",
              "2       Do you want a New Nokia 3510i Colour Phone Del...\n",
              "3       Congratulations ur awarded 500 of CD vouchers ...\n",
              "4       UR awarded a City Break and could WIN a £200 S...\n",
              "                              ...                        \n",
              "9645                                         Huh y lei...\n",
              "9646                 Will ü b going to esplanade fr home?\n",
              "9647    Pity, * was in mood for that. So...any other s...\n",
              "9648    The guy did some bitching but I acted like i'd...\n",
              "9649                           Rofl. Its true to its name\n",
              "Name: Message, Length: 9650, dtype: object"
            ]
          },
          "metadata": {},
          "execution_count": 15
        }
      ]
    },
    {
      "cell_type": "code",
      "source": [
        "nltk.download('stopwords')\n",
        "nltk.download('punkt')\n",
        "nltk.download('wordnet')\n",
        "nltk.download('omw-1.4')"
      ],
      "metadata": {
        "colab": {
          "base_uri": "https://localhost:8080/"
        },
        "id": "NwQ2ie1wUfaJ",
        "outputId": "2d74ab59-787c-423f-ab65-0118424c608c"
      },
      "execution_count": null,
      "outputs": [
        {
          "output_type": "stream",
          "name": "stderr",
          "text": [
            "[nltk_data] Downloading package stopwords to /root/nltk_data...\n",
            "[nltk_data]   Unzipping corpora/stopwords.zip.\n",
            "[nltk_data] Downloading package punkt to /root/nltk_data...\n",
            "[nltk_data]   Unzipping tokenizers/punkt.zip.\n",
            "[nltk_data] Downloading package wordnet to /root/nltk_data...\n",
            "[nltk_data] Downloading package omw-1.4 to /root/nltk_data...\n"
          ]
        },
        {
          "output_type": "execute_result",
          "data": {
            "text/plain": [
              "True"
            ]
          },
          "metadata": {},
          "execution_count": 16
        }
      ]
    },
    {
      "cell_type": "code",
      "source": [
        "#splitting into tokens(tokenization)\n",
        "from nltk import TweetTokenizer\n",
        "tokens=TweetTokenizer()\n",
        "tweets=tweets.apply(lambda x:tokens.tokenize(x)).apply(lambda x:' '.join(x))\n",
        "tweets"
      ],
      "metadata": {
        "colab": {
          "base_uri": "https://localhost:8080/"
        },
        "id": "lZHWxoj_U6NY",
        "outputId": "c664fe05-1ec8-459a-f9ba-a8b1d32ec40c"
      },
      "execution_count": null,
      "outputs": [
        {
          "output_type": "execute_result",
          "data": {
            "text/plain": [
              "0       FREE for 1st week ! No1 Nokia tone 4 ur mob ev...\n",
              "1       URGENT ! Your Mobile number has been awarded w...\n",
              "2       Do you want a New Nokia 3510i Colour Phone Del...\n",
              "3       Congratulations ur awarded 500 of CD vouchers ...\n",
              "4       UR awarded a City Break and could WIN a £ 200 ...\n",
              "                              ...                        \n",
              "9645                                        Huh y lei ...\n",
              "9646                Will ü b going to esplanade fr home ?\n",
              "9647    Pity , * was in mood for that . So ... any oth...\n",
              "9648    The guy did some bitching but I acted like i'd...\n",
              "9649                          Rofl . Its true to its name\n",
              "Name: Message, Length: 9650, dtype: object"
            ]
          },
          "metadata": {},
          "execution_count": 17
        }
      ]
    },
    {
      "cell_type": "code",
      "source": [
        "#by substitution method replacing regular expression with ''\n",
        "tweets=tweets.str.replace('[^a-zA-Z0-9]+','')"
      ],
      "metadata": {
        "id": "9JHVDWhSVvFo"
      },
      "execution_count": null,
      "outputs": []
    },
    {
      "cell_type": "code",
      "source": [
        "#removing words which has length less than 3\n",
        "from nltk import word_tokenize\n",
        "tweets=tweets.apply(lambda x:[i for i in word_tokenize(x) if len(i)>=3]).apply(lambda x:' '.join(x))\n",
        "tweets"
      ],
      "metadata": {
        "colab": {
          "base_uri": "https://localhost:8080/"
        },
        "id": "neYBcdBOWdFK",
        "outputId": "b60eb049-9efd-4817-f3a3-89bc06e4f3f5"
      },
      "execution_count": null,
      "outputs": [
        {
          "output_type": "execute_result",
          "data": {
            "text/plain": [
              "0       FREE for 1st week No1 Nokia tone mob every wee...\n",
              "1       URGENT Your Mobile number has been awarded wit...\n",
              "2       you want New Nokia 3510i Colour Phone Delivere...\n",
              "3       Congratulations awarded 500 vouchers 125gift g...\n",
              "4       awarded City Break and could WIN 200 Summer Sh...\n",
              "                              ...                        \n",
              "9645                                          Huh lei ...\n",
              "9646                            Will going esplanade home\n",
              "9647     Pity was mood for that ... any other suggestions\n",
              "9648    The guy did some bitching but acted like inter...\n",
              "9649                               Rofl Its true its name\n",
              "Name: Message, Length: 9650, dtype: object"
            ]
          },
          "metadata": {},
          "execution_count": 19
        }
      ]
    },
    {
      "cell_type": "code",
      "source": [
        "#stemming\n",
        "from nltk.stem import SnowballStemmer\n",
        "stemmer=SnowballStemmer('english')\n",
        "tweets=tweets.apply(lambda x:[stemmer.stem(i.lower()) for i in tokens.tokenize(x)]).apply(lambda x:' '.join(x))\n",
        "tweets"
      ],
      "metadata": {
        "colab": {
          "base_uri": "https://localhost:8080/"
        },
        "id": "vcon4ADUXkVO",
        "outputId": "9bb0d575-7d53-4ef4-eb40-87bd57112495"
      },
      "execution_count": null,
      "outputs": [
        {
          "output_type": "execute_result",
          "data": {
            "text/plain": [
              "0       free for 1st week no1 nokia tone mob everi wee...\n",
              "1       urgent your mobil number has been award with 2...\n",
              "2       you want new nokia 3510i colour phone deliv to...\n",
              "3       congratul award 500 voucher 125gift guarante f...\n",
              "4       award citi break and could win 200 summer shop...\n",
              "                              ...                        \n",
              "9645                                          huh lei ...\n",
              "9646                                will go esplanad home\n",
              "9647         piti was mood for that ... ani other suggest\n",
              "9648    the guy did some bitch but act like interest b...\n",
              "9649                                 rofl it true it name\n",
              "Name: Message, Length: 9650, dtype: object"
            ]
          },
          "metadata": {},
          "execution_count": 20
        }
      ]
    },
    {
      "cell_type": "code",
      "source": [
        "#removing stopwords\n",
        "from nltk.corpus import stopwords\n",
        "sw=stopwords.words('english')\n",
        "tweets=tweets.apply(lambda x:[i for i in tokens.tokenize(x) if i not in sw]).apply(lambda x:' '.join(x))\n",
        "tweets"
      ],
      "metadata": {
        "colab": {
          "base_uri": "https://localhost:8080/"
        },
        "id": "3KmtgR7xYicx",
        "outputId": "3f778f48-31b3-4df4-ed3d-7a0c8e0ff3fb"
      },
      "execution_count": null,
      "outputs": [
        {
          "output_type": "execute_result",
          "data": {
            "text/plain": [
              "0       free 1st week no1 nokia tone mob everi week tx...\n",
              "1       urgent mobil number award 2000 prize guarante ...\n",
              "2       want new nokia 3510i colour phone deliv tomorr...\n",
              "3       congratul award 500 voucher 125gift guarante f...\n",
              "4       award citi break could win 200 summer shop spr...\n",
              "                              ...                        \n",
              "9645                                          huh lei ...\n",
              "9646                                     go esplanad home\n",
              "9647                            piti mood ... ani suggest\n",
              "9648    guy bitch act like interest buy someth els nex...\n",
              "9649                                       rofl true name\n",
              "Name: Message, Length: 9650, dtype: object"
            ]
          },
          "metadata": {},
          "execution_count": 21
        }
      ]
    },
    {
      "cell_type": "code",
      "source": [
        "#vectorization\n",
        "from sklearn.feature_extraction.text import TfidfVectorizer\n",
        "vectors=TfidfVectorizer()\n",
        "Text=vectors.fit_transform(tweets)\n",
        "print(Text.shape)\n",
        "print(Text)"
      ],
      "metadata": {
        "colab": {
          "base_uri": "https://localhost:8080/"
        },
        "id": "ZUF_WB4XZg6V",
        "outputId": "75f98305-dd29-4952-95ff-e23cee5190e1"
      },
      "execution_count": null,
      "outputs": [
        {
          "output_type": "stream",
          "name": "stdout",
          "text": [
            "(9650, 7079)\n",
            "  (0, 351)\t0.14249850293981692\n",
            "  (0, 4471)\t0.23163254001198566\n",
            "  (0, 6721)\t0.24213846654085577\n",
            "  (0, 528)\t0.2361178684711246\n",
            "  (0, 4889)\t0.17154765075524375\n",
            "  (0, 6521)\t0.16358516127576042\n",
            "  (0, 1854)\t0.16922639757215355\n",
            "  (0, 2953)\t0.2251798268081733\n",
            "  (0, 6975)\t0.1397549566977845\n",
            "  (0, 4070)\t0.20945473160131203\n",
            "  (0, 6186)\t0.17387262544649537\n",
            "  (0, 6500)\t0.22071686673839996\n",
            "  (0, 2947)\t0.127039224120037\n",
            "  (0, 738)\t0.206466509943789\n",
            "  (0, 6494)\t0.11937308260362431\n",
            "  (0, 2555)\t0.1761921813351053\n",
            "  (0, 4212)\t0.18682596018322858\n",
            "  (0, 6378)\t0.32253669625947906\n",
            "  (0, 4457)\t0.3212639549633161\n",
            "  (0, 4448)\t0.23093470958725754\n",
            "  (0, 6797)\t0.2931952523081402\n",
            "  (0, 394)\t0.1851664496108101\n",
            "  (0, 2829)\t0.11827497871183905\n",
            "  (1, 355)\t0.2561902360606172\n",
            "  (1, 4594)\t0.1933715527723646\n",
            "  :\t:\n",
            "  (9644, 2947)\t0.21588181932756897\n",
            "  (9645, 3807)\t0.7003917983833767\n",
            "  (9645, 3323)\t0.7137585927730042\n",
            "  (9646, 2535)\t0.7741254980405371\n",
            "  (9646, 3262)\t0.4512625077111264\n",
            "  (9646, 2984)\t0.44395029273304476\n",
            "  (9647, 4851)\t0.6053591215827796\n",
            "  (9647, 4247)\t0.5093309950268116\n",
            "  (9647, 6029)\t0.535217997117856\n",
            "  (9647, 1056)\t0.29608101422190874\n",
            "  (9648, 902)\t0.39422912370442986\n",
            "  (9648, 2921)\t0.3657244413665394\n",
            "  (9648, 5782)\t0.27937313599999875\n",
            "  (9648, 3474)\t0.32349703997967205\n",
            "  (9648, 2464)\t0.3185422624989614\n",
            "  (9648, 1424)\t0.357868407143644\n",
            "  (9648, 3840)\t0.20902122322969602\n",
            "  (9648, 3102)\t0.26287323523219597\n",
            "  (9648, 1606)\t0.26584434254935296\n",
            "  (9648, 4416)\t0.24254292910762212\n",
            "  (9648, 6797)\t0.18466396994364548\n",
            "  (9648, 2829)\t0.1489869084985996\n",
            "  (9649, 5339)\t0.7389081147212516\n",
            "  (9649, 6459)\t0.5019470835278513\n",
            "  (9649, 4340)\t0.4495152092387642\n"
          ]
        }
      ]
    },
    {
      "cell_type": "code",
      "source": [
        "#separate x as input and y as output\n",
        "x=Text\n",
        "print(x.shape)"
      ],
      "metadata": {
        "colab": {
          "base_uri": "https://localhost:8080/"
        },
        "id": "IMHbBje5breZ",
        "outputId": "d18d3c98-af3d-4069-8503-6f68b3bae840"
      },
      "execution_count": null,
      "outputs": [
        {
          "output_type": "stream",
          "name": "stdout",
          "text": [
            "(9650, 7079)\n"
          ]
        }
      ]
    },
    {
      "cell_type": "code",
      "source": [
        "y=new_data['Category'].values\n",
        "print(y.shape)"
      ],
      "metadata": {
        "colab": {
          "base_uri": "https://localhost:8080/"
        },
        "id": "TR4RKGr2cFnJ",
        "outputId": "26a14bd4-254a-416a-b47b-e98230c4f02e"
      },
      "execution_count": null,
      "outputs": [
        {
          "output_type": "stream",
          "name": "stdout",
          "text": [
            "(9650,)\n"
          ]
        }
      ]
    },
    {
      "cell_type": "code",
      "source": [
        "#split data into train and test set\n",
        "from sklearn.model_selection import train_test_split\n",
        "x_train,x_test,y_train,y_test=train_test_split(x,y,test_size=0.30,random_state=42)"
      ],
      "metadata": {
        "id": "oDkl1-cScJOH"
      },
      "execution_count": null,
      "outputs": []
    },
    {
      "cell_type": "code",
      "source": [
        "print(x_train.shape)\n",
        "print(x_train)"
      ],
      "metadata": {
        "colab": {
          "base_uri": "https://localhost:8080/"
        },
        "id": "VEgHU5giccJB",
        "outputId": "18590327-986c-48ff-fc67-8ae0b157ce3a"
      },
      "execution_count": null,
      "outputs": [
        {
          "output_type": "stream",
          "name": "stdout",
          "text": [
            "(6755, 7079)\n",
            "  (0, 4106)\t0.3531400728726624\n",
            "  (0, 156)\t0.2653956883961296\n",
            "  (0, 3411)\t0.2542777900805168\n",
            "  (0, 4081)\t0.2582073119640097\n",
            "  (0, 1275)\t0.2582073119640097\n",
            "  (0, 2064)\t0.23681807979142808\n",
            "  (0, 6718)\t0.23681807979142808\n",
            "  (0, 5356)\t0.22422756871284044\n",
            "  (0, 523)\t0.22841103017564146\n",
            "  (0, 790)\t0.2129128739652716\n",
            "  (0, 5516)\t0.1545389835722019\n",
            "  (0, 1682)\t0.330432160619533\n",
            "  (0, 4944)\t0.21263892761376524\n",
            "  (0, 6030)\t0.2231566312488094\n",
            "  (0, 630)\t0.18502820224683206\n",
            "  (0, 4594)\t0.15023514604077878\n",
            "  (0, 3749)\t0.19302303518292316\n",
            "  (0, 351)\t0.15736918187954588\n",
            "  (1, 6466)\t0.3034599217955835\n",
            "  (1, 696)\t0.3034599217955835\n",
            "  (1, 2039)\t0.3034599217955835\n",
            "  (1, 407)\t0.3009745697147633\n",
            "  (1, 5681)\t0.28516404553396724\n",
            "  (1, 801)\t0.28858233746008083\n",
            "  (1, 3441)\t0.23265119674702167\n",
            "  :\t:\n",
            "  (6751, 3737)\t0.2717101789200421\n",
            "  (6751, 5613)\t0.2717101789200421\n",
            "  (6751, 6712)\t0.2544088285908309\n",
            "  (6751, 1459)\t0.2717101789200421\n",
            "  (6751, 6910)\t0.2544088285908309\n",
            "  (6751, 1602)\t0.25917462500450394\n",
            "  (6751, 5025)\t0.22353783196061486\n",
            "  (6751, 1663)\t0.1948856121186315\n",
            "  (6751, 1606)\t0.1747717346257116\n",
            "  (6751, 2254)\t0.20293264932686675\n",
            "  (6751, 6597)\t0.2591345487060486\n",
            "  (6752, 4713)\t0.5267782343643331\n",
            "  (6752, 3782)\t0.29337502506288254\n",
            "  (6752, 5484)\t0.2535356435452371\n",
            "  (6752, 2509)\t0.5464851816381919\n",
            "  (6752, 5336)\t0.4952991112180259\n",
            "  (6752, 6930)\t0.16789342035338178\n",
            "  (6753, 111)\t0.7140061042612078\n",
            "  (6753, 4133)\t0.40972409142141963\n",
            "  (6753, 4870)\t0.370341204913743\n",
            "  (6753, 4407)\t0.368450106288423\n",
            "  (6753, 1629)\t0.22229116740372729\n",
            "  (6754, 5641)\t0.7301620184429576\n",
            "  (6754, 5948)\t0.4651659679614523\n",
            "  (6754, 5608)\t0.50048381499684\n"
          ]
        }
      ]
    },
    {
      "cell_type": "code",
      "source": [
        "print(x_test.shape)\n",
        "print(x_test)"
      ],
      "metadata": {
        "colab": {
          "base_uri": "https://localhost:8080/"
        },
        "id": "BeOP5jkacozf",
        "outputId": "8dc8d055-3503-4208-a333-9b27c26f8cec"
      },
      "execution_count": null,
      "outputs": [
        {
          "output_type": "stream",
          "name": "stdout",
          "text": [
            "(2895, 7079)\n",
            "  (0, 668)\t0.32388740618143924\n",
            "  (0, 4730)\t0.23077548561052097\n",
            "  (0, 771)\t0.29873743829153954\n",
            "  (0, 6165)\t0.27100535240192436\n",
            "  (0, 341)\t0.27100535240192436\n",
            "  (0, 313)\t0.27100535240192436\n",
            "  (0, 2234)\t0.24196138036700618\n",
            "  (0, 4882)\t0.23597877377780255\n",
            "  (0, 1211)\t0.24394570154743447\n",
            "  (0, 6130)\t0.18460667062129546\n",
            "  (0, 5516)\t0.1499666548380491\n",
            "  (0, 1643)\t0.19909729355081623\n",
            "  (0, 6870)\t0.1648519464413339\n",
            "  (0, 4889)\t0.18384457247852767\n",
            "  (0, 2947)\t0.13614568164314048\n",
            "  (0, 4457)\t0.34429287835168115\n",
            "  (0, 2829)\t0.25350639079527415\n",
            "  (1, 7025)\t0.21990554362756656\n",
            "  (1, 533)\t0.36875002105230853\n",
            "  (1, 4083)\t0.2590095070588795\n",
            "  (1, 2835)\t0.25603775553439784\n",
            "  (1, 4618)\t0.2527992864419182\n",
            "  (1, 5959)\t0.16428948651669725\n",
            "  (1, 4274)\t0.18726037278779553\n",
            "  (1, 883)\t0.33717668087158104\n",
            "  :\t:\n",
            "  (2892, 6217)\t0.4751928746762353\n",
            "  (2892, 2829)\t0.21910602341000332\n",
            "  (2893, 259)\t0.3365405866831802\n",
            "  (2893, 37)\t0.3365405866831802\n",
            "  (2893, 839)\t0.29448635784596167\n",
            "  (2893, 1163)\t0.27518426542064844\n",
            "  (2893, 5173)\t0.2440586337386726\n",
            "  (2893, 21)\t0.26292887183368996\n",
            "  (2893, 8)\t0.27287411799992595\n",
            "  (2893, 1203)\t0.21999941159050107\n",
            "  (2893, 478)\t0.2253709960378671\n",
            "  (2893, 1633)\t0.24081761994793807\n",
            "  (2893, 1473)\t0.21696361387291163\n",
            "  (2893, 1)\t0.21200213568668475\n",
            "  (2893, 1500)\t0.17582427407065537\n",
            "  (2893, 355)\t0.20069731916518793\n",
            "  (2893, 1629)\t0.09952725123839075\n",
            "  (2893, 5021)\t0.16052049633940774\n",
            "  (2893, 4215)\t0.1464681845807604\n",
            "  (2893, 6597)\t0.1742231022361916\n",
            "  (2894, 4957)\t0.5620926013688959\n",
            "  (2894, 1256)\t0.45525238199077606\n",
            "  (2894, 1961)\t0.4441460154770751\n",
            "  (2894, 2881)\t0.4064139743358055\n",
            "  (2894, 4021)\t0.3381703336759229\n"
          ]
        }
      ]
    },
    {
      "cell_type": "code",
      "source": [
        "print(y_train.shape)\n",
        "print(y_train)"
      ],
      "metadata": {
        "colab": {
          "base_uri": "https://localhost:8080/"
        },
        "id": "aSh8gUYXcsGx",
        "outputId": "5d0783e7-0b25-4438-c780-fff1232ff91c"
      },
      "execution_count": null,
      "outputs": [
        {
          "output_type": "stream",
          "name": "stdout",
          "text": [
            "(6755,)\n",
            "[1 1 1 ... 0 1 0]\n"
          ]
        }
      ]
    },
    {
      "cell_type": "code",
      "source": [
        "print(y_test.shape)\n",
        "print(y_test)"
      ],
      "metadata": {
        "colab": {
          "base_uri": "https://localhost:8080/"
        },
        "id": "aYIBum-jcu5X",
        "outputId": "e9102181-46ff-4bc8-e372-31e049322060"
      },
      "execution_count": null,
      "outputs": [
        {
          "output_type": "stream",
          "name": "stdout",
          "text": [
            "(2895,)\n",
            "[1 1 1 ... 1 1 0]\n"
          ]
        }
      ]
    },
    {
      "cell_type": "code",
      "source": [
        "from sklearn.linear_model import LogisticRegression\n",
        "from sklearn.metrics import classification_report\n",
        "l_model=LogisticRegression()\n",
        "l_model.fit(x_train,y_train)\n",
        "y_pred=l_model.predict(x_test)\n",
        "print(classification_report(y_test,y_pred))"
      ],
      "metadata": {
        "colab": {
          "base_uri": "https://localhost:8080/"
        },
        "id": "UU4kswU1furn",
        "outputId": "65a1d537-f27c-4809-fabc-3b416c9c2aea"
      },
      "execution_count": null,
      "outputs": [
        {
          "output_type": "stream",
          "name": "stdout",
          "text": [
            "              precision    recall  f1-score   support\n",
            "\n",
            "           0       0.99      0.99      0.99      1433\n",
            "           1       0.99      0.99      0.99      1462\n",
            "\n",
            "    accuracy                           0.99      2895\n",
            "   macro avg       0.99      0.99      0.99      2895\n",
            "weighted avg       0.99      0.99      0.99      2895\n",
            "\n"
          ]
        }
      ]
    },
    {
      "cell_type": "code",
      "source": [
        "from sklearn.ensemble import RandomForestClassifier\n",
        "r_model=RandomForestClassifier()\n",
        "r_model.fit(x_train,y_train)\n",
        "y_pred=r_model.predict(x_test)\n",
        "print(classification_report(y_test,y_pred))"
      ],
      "metadata": {
        "colab": {
          "base_uri": "https://localhost:8080/"
        },
        "id": "4Plgz1W1fCNC",
        "outputId": "b681b538-d828-4efe-e6c1-5db90103c4a6"
      },
      "execution_count": null,
      "outputs": [
        {
          "output_type": "stream",
          "name": "stdout",
          "text": [
            "              precision    recall  f1-score   support\n",
            "\n",
            "           0       1.00      1.00      1.00      1433\n",
            "           1       1.00      1.00      1.00      1462\n",
            "\n",
            "    accuracy                           1.00      2895\n",
            "   macro avg       1.00      1.00      1.00      2895\n",
            "weighted avg       1.00      1.00      1.00      2895\n",
            "\n"
          ]
        }
      ]
    },
    {
      "cell_type": "code",
      "source": [
        "from sklearn.neighbors import KNeighborsClassifier\n",
        "# Hyper Parameter Tuning\n",
        "from sklearn.model_selection import GridSearchCV\n",
        "clf=KNeighborsClassifier()\n",
        "pmtr={'n_neighbors':[3,5,7,9,11],'weights':['uniform','distance']}\n",
        "gd=GridSearchCV(clf,pmtr,cv=10,scoring='accuracy')  # CV = CrossValidation\n",
        "gd.fit(x_train,y_train)"
      ],
      "metadata": {
        "colab": {
          "base_uri": "https://localhost:8080/",
          "height": 117
        },
        "id": "D2fCpqJXc4Kf",
        "outputId": "2a2964c8-c13b-4bc3-877e-bc1aca80dfa9"
      },
      "execution_count": null,
      "outputs": [
        {
          "output_type": "execute_result",
          "data": {
            "text/plain": [
              "GridSearchCV(cv=10, estimator=KNeighborsClassifier(),\n",
              "             param_grid={'n_neighbors': [3, 5, 7, 9, 11],\n",
              "                         'weights': ['uniform', 'distance']},\n",
              "             scoring='accuracy')"
            ],
            "text/html": [
              "<style>#sk-container-id-1 {color: black;background-color: white;}#sk-container-id-1 pre{padding: 0;}#sk-container-id-1 div.sk-toggleable {background-color: white;}#sk-container-id-1 label.sk-toggleable__label {cursor: pointer;display: block;width: 100%;margin-bottom: 0;padding: 0.3em;box-sizing: border-box;text-align: center;}#sk-container-id-1 label.sk-toggleable__label-arrow:before {content: \"▸\";float: left;margin-right: 0.25em;color: #696969;}#sk-container-id-1 label.sk-toggleable__label-arrow:hover:before {color: black;}#sk-container-id-1 div.sk-estimator:hover label.sk-toggleable__label-arrow:before {color: black;}#sk-container-id-1 div.sk-toggleable__content {max-height: 0;max-width: 0;overflow: hidden;text-align: left;background-color: #f0f8ff;}#sk-container-id-1 div.sk-toggleable__content pre {margin: 0.2em;color: black;border-radius: 0.25em;background-color: #f0f8ff;}#sk-container-id-1 input.sk-toggleable__control:checked~div.sk-toggleable__content {max-height: 200px;max-width: 100%;overflow: auto;}#sk-container-id-1 input.sk-toggleable__control:checked~label.sk-toggleable__label-arrow:before {content: \"▾\";}#sk-container-id-1 div.sk-estimator input.sk-toggleable__control:checked~label.sk-toggleable__label {background-color: #d4ebff;}#sk-container-id-1 div.sk-label input.sk-toggleable__control:checked~label.sk-toggleable__label {background-color: #d4ebff;}#sk-container-id-1 input.sk-hidden--visually {border: 0;clip: rect(1px 1px 1px 1px);clip: rect(1px, 1px, 1px, 1px);height: 1px;margin: -1px;overflow: hidden;padding: 0;position: absolute;width: 1px;}#sk-container-id-1 div.sk-estimator {font-family: monospace;background-color: #f0f8ff;border: 1px dotted black;border-radius: 0.25em;box-sizing: border-box;margin-bottom: 0.5em;}#sk-container-id-1 div.sk-estimator:hover {background-color: #d4ebff;}#sk-container-id-1 div.sk-parallel-item::after {content: \"\";width: 100%;border-bottom: 1px solid gray;flex-grow: 1;}#sk-container-id-1 div.sk-label:hover label.sk-toggleable__label {background-color: #d4ebff;}#sk-container-id-1 div.sk-serial::before {content: \"\";position: absolute;border-left: 1px solid gray;box-sizing: border-box;top: 0;bottom: 0;left: 50%;z-index: 0;}#sk-container-id-1 div.sk-serial {display: flex;flex-direction: column;align-items: center;background-color: white;padding-right: 0.2em;padding-left: 0.2em;position: relative;}#sk-container-id-1 div.sk-item {position: relative;z-index: 1;}#sk-container-id-1 div.sk-parallel {display: flex;align-items: stretch;justify-content: center;background-color: white;position: relative;}#sk-container-id-1 div.sk-item::before, #sk-container-id-1 div.sk-parallel-item::before {content: \"\";position: absolute;border-left: 1px solid gray;box-sizing: border-box;top: 0;bottom: 0;left: 50%;z-index: -1;}#sk-container-id-1 div.sk-parallel-item {display: flex;flex-direction: column;z-index: 1;position: relative;background-color: white;}#sk-container-id-1 div.sk-parallel-item:first-child::after {align-self: flex-end;width: 50%;}#sk-container-id-1 div.sk-parallel-item:last-child::after {align-self: flex-start;width: 50%;}#sk-container-id-1 div.sk-parallel-item:only-child::after {width: 0;}#sk-container-id-1 div.sk-dashed-wrapped {border: 1px dashed gray;margin: 0 0.4em 0.5em 0.4em;box-sizing: border-box;padding-bottom: 0.4em;background-color: white;}#sk-container-id-1 div.sk-label label {font-family: monospace;font-weight: bold;display: inline-block;line-height: 1.2em;}#sk-container-id-1 div.sk-label-container {text-align: center;}#sk-container-id-1 div.sk-container {/* jupyter's `normalize.less` sets `[hidden] { display: none; }` but bootstrap.min.css set `[hidden] { display: none !important; }` so we also need the `!important` here to be able to override the default hidden behavior on the sphinx rendered scikit-learn.org. See: https://github.com/scikit-learn/scikit-learn/issues/21755 */display: inline-block !important;position: relative;}#sk-container-id-1 div.sk-text-repr-fallback {display: none;}</style><div id=\"sk-container-id-1\" class=\"sk-top-container\"><div class=\"sk-text-repr-fallback\"><pre>GridSearchCV(cv=10, estimator=KNeighborsClassifier(),\n",
              "             param_grid={&#x27;n_neighbors&#x27;: [3, 5, 7, 9, 11],\n",
              "                         &#x27;weights&#x27;: [&#x27;uniform&#x27;, &#x27;distance&#x27;]},\n",
              "             scoring=&#x27;accuracy&#x27;)</pre><b>In a Jupyter environment, please rerun this cell to show the HTML representation or trust the notebook. <br />On GitHub, the HTML representation is unable to render, please try loading this page with nbviewer.org.</b></div><div class=\"sk-container\" hidden><div class=\"sk-item sk-dashed-wrapped\"><div class=\"sk-label-container\"><div class=\"sk-label sk-toggleable\"><input class=\"sk-toggleable__control sk-hidden--visually\" id=\"sk-estimator-id-1\" type=\"checkbox\" ><label for=\"sk-estimator-id-1\" class=\"sk-toggleable__label sk-toggleable__label-arrow\">GridSearchCV</label><div class=\"sk-toggleable__content\"><pre>GridSearchCV(cv=10, estimator=KNeighborsClassifier(),\n",
              "             param_grid={&#x27;n_neighbors&#x27;: [3, 5, 7, 9, 11],\n",
              "                         &#x27;weights&#x27;: [&#x27;uniform&#x27;, &#x27;distance&#x27;]},\n",
              "             scoring=&#x27;accuracy&#x27;)</pre></div></div></div><div class=\"sk-parallel\"><div class=\"sk-parallel-item\"><div class=\"sk-item\"><div class=\"sk-label-container\"><div class=\"sk-label sk-toggleable\"><input class=\"sk-toggleable__control sk-hidden--visually\" id=\"sk-estimator-id-2\" type=\"checkbox\" ><label for=\"sk-estimator-id-2\" class=\"sk-toggleable__label sk-toggleable__label-arrow\">estimator: KNeighborsClassifier</label><div class=\"sk-toggleable__content\"><pre>KNeighborsClassifier()</pre></div></div></div><div class=\"sk-serial\"><div class=\"sk-item\"><div class=\"sk-estimator sk-toggleable\"><input class=\"sk-toggleable__control sk-hidden--visually\" id=\"sk-estimator-id-3\" type=\"checkbox\" ><label for=\"sk-estimator-id-3\" class=\"sk-toggleable__label sk-toggleable__label-arrow\">KNeighborsClassifier</label><div class=\"sk-toggleable__content\"><pre>KNeighborsClassifier()</pre></div></div></div></div></div></div></div></div></div></div>"
            ]
          },
          "metadata": {},
          "execution_count": 32
        }
      ]
    },
    {
      "cell_type": "code",
      "source": [
        "print(gd.best_params_)"
      ],
      "metadata": {
        "colab": {
          "base_uri": "https://localhost:8080/"
        },
        "id": "dYQj4hsxdcAX",
        "outputId": "22b8b666-4612-4294-e6ff-0ce668a604bd"
      },
      "execution_count": null,
      "outputs": [
        {
          "output_type": "stream",
          "name": "stdout",
          "text": [
            "{'n_neighbors': 3, 'weights': 'distance'}\n"
          ]
        }
      ]
    },
    {
      "cell_type": "code",
      "source": [
        "k_model=KNeighborsClassifier(n_neighbors=3,weights='distance')\n",
        "k_model.fit(x_train,y_train)\n",
        "y_pred=k_model.predict(x_test)\n",
        "from sklearn.metrics import confusion_matrix,ConfusionMatrixDisplay\n",
        "mat=confusion_matrix(y_test,y_pred)\n",
        "print(mat)\n",
        "dis=ConfusionMatrixDisplay(mat,display_labels=['spam','ham'])\n",
        "dis.plot()\n",
        "print(classification_report(y_test,y_pred))"
      ],
      "metadata": {
        "colab": {
          "base_uri": "https://localhost:8080/",
          "height": 640
        },
        "id": "hon83gV2dg3K",
        "outputId": "96f6c51e-61dd-4fca-f59f-afb52f181d18"
      },
      "execution_count": null,
      "outputs": [
        {
          "output_type": "stream",
          "name": "stdout",
          "text": [
            "[[1433    0]\n",
            " [   3 1459]]\n",
            "              precision    recall  f1-score   support\n",
            "\n",
            "           0       1.00      1.00      1.00      1433\n",
            "           1       1.00      1.00      1.00      1462\n",
            "\n",
            "    accuracy                           1.00      2895\n",
            "   macro avg       1.00      1.00      1.00      2895\n",
            "weighted avg       1.00      1.00      1.00      2895\n",
            "\n"
          ]
        },
        {
          "output_type": "display_data",
          "data": {
            "text/plain": [
              "<Figure size 640x480 with 2 Axes>"
            ],
            "image/png": "[encoded data removed]"
          },
          "metadata": {}
        }
      ]
    }
  ]
}