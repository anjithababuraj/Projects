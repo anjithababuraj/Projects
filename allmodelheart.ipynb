{
  "nbformat": 4,
  "nbformat_minor": 0,
  "metadata": {
    "colab": {
      "provenance": [],
      "authorship_tag": "ABX9TyM0tJh4boGpnsv8DxbyvP4K",
      "include_colab_link": true
    },
    "kernelspec": {
      "name": "python3",
      "display_name": "Python 3"
    },
    "language_info": {
      "name": "python"
    }
  },
  "cells": [
    {
      "cell_type": "markdown",
      "metadata": {
        "id": "view-in-github",
        "colab_type": "text"
      },
      "source": [
        "<a href=\"https://colab.research.google.com/github/anjithababuraj/Projects/blob/main/allmodelheart.ipynb\" target=\"_parent\"><img src=\"https://colab.research.google.com/assets/colab-badge.svg\" alt=\"Open In Colab\"/></a>"
      ]
    },
    {
      "cell_type": "code",
      "execution_count": null,
      "metadata": {
        "id": "4VPoU2heAu1i"
      },
      "outputs": [],
      "source": [
        "import numpy as np\n",
        "import pandas as pd\n",
        "df=pd.read_csv('/content/heart_missing (1).csv')\n",
        "df"
      ]
    },
    {
      "cell_type": "code",
      "source": [
        "df.head()"
      ],
      "metadata": {
        "id": "-WqVJF28A8La"
      },
      "execution_count": null,
      "outputs": []
    },
    {
      "cell_type": "code",
      "source": [
        "df.tail()"
      ],
      "metadata": {
        "id": "d17LMzJJA-lY"
      },
      "execution_count": null,
      "outputs": []
    },
    {
      "cell_type": "code",
      "source": [
        "df.shape"
      ],
      "metadata": {
        "id": "iNQAudvDBAbD"
      },
      "execution_count": null,
      "outputs": []
    },
    {
      "cell_type": "code",
      "source": [
        "df.columns"
      ],
      "metadata": {
        "id": "T5bGbhMaBDe_"
      },
      "execution_count": null,
      "outputs": []
    },
    {
      "cell_type": "code",
      "source": [
        "df.dtypes"
      ],
      "metadata": {
        "id": "CriRGKa2BGcv"
      },
      "execution_count": null,
      "outputs": []
    },
    {
      "cell_type": "code",
      "source": [
        "df.isna().sum()"
      ],
      "metadata": {
        "id": "1NtQQB_9BJts"
      },
      "execution_count": null,
      "outputs": []
    },
    {
      "cell_type": "code",
      "source": [
        "df1=df.groupby('target') ['target'].count() #to check balanced or imbalanced\n",
        "df1"
      ],
      "metadata": {
        "colab": {
          "base_uri": "https://localhost:8080/"
        },
        "id": "eZuWeap9NZkL",
        "outputId": "dd10e94d-6611-4180-f1ae-b2d4a8ed1057"
      },
      "execution_count": null,
      "outputs": [
        {
          "output_type": "execute_result",
          "data": {
            "text/plain": [
              "target\n",
              "0    499\n",
              "1    526\n",
              "Name: target, dtype: int64"
            ]
          },
          "metadata": {},
          "execution_count": 26
        }
      ]
    },
    {
      "cell_type": "code",
      "source": [
        "p=df['cp'].mean()\n",
        "df['cp'].fillna(p,inplace=True)\n",
        "q=df['fbs'].mean()\n",
        "df['fbs'].fillna(q,inplace=True)\n",
        "r=df['restecg'].mean()\n",
        "df['restecg'].fillna(r,inplace=True)\n",
        "s=df['oldpeak'].mean()\n",
        "df['oldpeak'].fillna(s,inplace=True)"
      ],
      "metadata": {
        "id": "i5kxjP5-BPsG"
      },
      "execution_count": null,
      "outputs": []
    },
    {
      "cell_type": "code",
      "source": [
        "x=df.iloc[:,:-1].values\n",
        "y=df.iloc[:,-1].values"
      ],
      "metadata": {
        "id": "Q0ousWi8BUV-"
      },
      "execution_count": null,
      "outputs": []
    },
    {
      "cell_type": "code",
      "source": [
        "from sklearn.model_selection import train_test_split\n",
        "x_train,x_test,y_train,y_test=train_test_split(x,y,test_size=0.30,random_state=42)"
      ],
      "metadata": {
        "id": "bon5TDLfBY_o"
      },
      "execution_count": null,
      "outputs": []
    },
    {
      "cell_type": "code",
      "source": [
        "from sklearn.preprocessing import StandardScaler\n",
        "scaler=StandardScaler()\n",
        "scaler.fit(x_train)\n",
        "x_train=scaler.transform(x_train)\n",
        "x_test=scaler.transform(x_test)"
      ],
      "metadata": {
        "id": "ofgHv9N1BlaE"
      },
      "execution_count": null,
      "outputs": []
    },
    {
      "cell_type": "code",
      "source": [
        "from sklearn.neighbors import KNeighborsClassifier\n",
        "from sklearn.naive_bayes import GaussianNB\n",
        "from sklearn.svm import SVC\n",
        "from sklearn.metrics import confusion_matrix,accuracy_score\n",
        "k_model=KNeighborsClassifier(n_neighbors=7)\n",
        "n_model=GaussianNB()\n",
        "s_model=SVC()\n",
        "lst_model=[k_model,n_model,s_model]"
      ],
      "metadata": {
        "id": "9fYhIZe2IG3D"
      },
      "execution_count": null,
      "outputs": []
    },
    {
      "cell_type": "code",
      "source": [
        "for i in lst_model:\n",
        "  print(\"Model name:\",i)\n",
        "  i.fit(x_train,y_train)\n",
        "  y_pred=i.predict(x_test)\n",
        "  print(confusion_matrix(y_test,y_pred))\n",
        "  print(accuracy_score(y_test,y_pred))\n",
        "  print(\"*********************************\")"
      ],
      "metadata": {
        "colab": {
          "base_uri": "https://localhost:8080/"
        },
        "id": "xq_nHrDeIyLC",
        "outputId": "e5b0f5f9-87c2-4946-b201-f84cd807c8db"
      },
      "execution_count": null,
      "outputs": [
        {
          "output_type": "stream",
          "name": "stdout",
          "text": [
            "Model name: KNeighborsClassifier(n_neighbors=7)\n",
            "[[127  32]\n",
            " [ 16 133]]\n",
            "0.8441558441558441\n",
            "*********************************\n",
            "Model name: GaussianNB()\n",
            "[[119  40]\n",
            " [ 19 130]]\n",
            "0.8084415584415584\n",
            "*********************************\n",
            "Model name: SVC()\n",
            "[[134  25]\n",
            " [ 11 138]]\n",
            "0.8831168831168831\n",
            "*********************************\n"
          ]
        }
      ]
    }
  ]
}